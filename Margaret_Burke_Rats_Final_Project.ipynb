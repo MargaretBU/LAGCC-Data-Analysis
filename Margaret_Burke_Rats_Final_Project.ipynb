{
  "nbformat": 4,
  "nbformat_minor": 0,
  "metadata": {
    "colab": {
      "provenance": [],
      "authorship_tag": "ABX9TyO8WmcCKlDge/4wj9GibEZI",
      "include_colab_link": true
    },
    "kernelspec": {
      "name": "python3",
      "display_name": "Python 3"
    },
    "language_info": {
      "name": "python"
    }
  },
  "cells": [
    {
      "cell_type": "markdown",
      "metadata": {
        "id": "view-in-github",
        "colab_type": "text"
      },
      "source": [
        "<a href=\"https://colab.research.google.com/github/MargaretBU/LAGCC-Data-Analysis/blob/main/Margaret_Burke_Rats_Final_Project.ipynb\" target=\"_parent\"><img src=\"https://colab.research.google.com/assets/colab-badge.svg\" alt=\"Open In Colab\"/></a>"
      ]
    },
    {
      "cell_type": "markdown",
      "source": [
        "# **WHERE ARE THE RATS?**"
      ],
      "metadata": {
        "id": "h4OhiP97Oq8O"
      }
    },
    {
      "cell_type": "markdown",
      "source": [
        "### •\tFollowing the Covid outbreak in 2020 there were reports of a citywide rat population explosion\n",
        "### •\tThis project aims to outline the parameters of the problem and determine the locations of the worst infestations\n"
      ],
      "metadata": {
        "id": "KN020YKQPBKz"
      }
    },
    {
      "cell_type": "markdown",
      "source": [
        "## **1. IMPORT NYC RODENT INSPECTION DATASET AND EXAMINE DATA**"
      ],
      "metadata": {
        "id": "zN3YHBllYMMp"
      }
    },
    {
      "cell_type": "code",
      "execution_count": 1,
      "metadata": {
        "id": "ILgUDdqmr4qE"
      },
      "outputs": [],
      "source": [
        "#import padas\n",
        "import pandas as pd"
      ]
    },
    {
      "cell_type": "code",
      "execution_count": 2,
      "metadata": {
        "id": "6t346bB4e-nI"
      },
      "outputs": [],
      "source": [
        "#import NYC Rodent Inspection Data as CSV file in Pandas\n",
        "#Note: dataset is quite large so it can take a minute or so to load\n",
        "df=pd.read_csv('https://data.cityofnewyork.us/api/views/p937-wjvj/rows.csv')"
      ]
    },
    {
      "cell_type": "code",
      "execution_count": 3,
      "metadata": {
        "colab": {
          "base_uri": "https://localhost:8080/",
          "height": 359
        },
        "id": "Sdksh5IjS849",
        "outputId": "a6ddc1ef-cd81-4ecb-9682-cb98b6124251"
      },
      "outputs": [
        {
          "output_type": "execute_result",
          "data": {
            "text/plain": [
              "  INSPECTION_TYPE  JOB_TICKET_OR_WORK_ORDER_ID     JOB_ID  JOB_PROGRESS  \\\n",
              "0         Initial                     13398733  PC7868067             1   \n",
              "1         Initial                     13147400  PC7581532             1   \n",
              "2      Compliance                     13236586  PC7682651             2   \n",
              "3         Initial                     13163168  PC7585308             1   \n",
              "4         Initial                     13661515  PC8122655             1   \n",
              "\n",
              "            BBL  BORO_CODE  BLOCK  LOT HOUSE_NUMBER      STREET_NAME  ...  \\\n",
              "0  2.045480e+09          2   4548  131         2996   HOLLAND AVENUE  ...   \n",
              "1  3.033500e+09          3   3350   59          103  WOODBINE STREET  ...   \n",
              "2  2.025050e+09          2   2505    1         1060  ANDERSON AVENUE  ...   \n",
              "3  3.060450e+09          3   6045    6          406        86 STREET  ...   \n",
              "4           NaN          1    529    9          NaN              NaN  ...   \n",
              "\n",
              "     BOROUGH         INSPECTION_DATE  RESULT           APPROVED_DATE  \\\n",
              "0      Bronx  05/26/2022 08:15:42 AM  Passed  05/27/2022 08:30:00 AM   \n",
              "1   Brooklyn  03/02/2020 02:30:42 PM  Passed  03/12/2020 12:12:50 PM   \n",
              "2      Bronx  05/31/2021 09:43:57 AM  Passed  06/02/2021 03:28:03 PM   \n",
              "3   Brooklyn  06/16/2020 09:00:42 AM  Passed  07/24/2020 12:11:10 PM   \n",
              "4  Manhattan  06/07/2023 04:36:13 PM  Passed  06/08/2023 10:38:30 AM   \n",
              "\n",
              "                              LOCATION COMMUNITY BOARD COUNCIL DISTRICT  \\\n",
              "0  (40.869547110196, -73.865257650031)            11.0             15.0   \n",
              "1  (40.691796814585, -73.917465549218)             4.0             34.0   \n",
              "2  (40.833723137559, -73.926052122448)             4.0             16.0   \n",
              "3  (40.622588788561, -74.028036390824)            10.0             43.0   \n",
              "4                                  NaN             NaN              NaN   \n",
              "\n",
              "  CENSUS TRACT        BIN              NTA  \n",
              "0      33801.0  2054876.0         Allerton  \n",
              "1        417.0  3076615.0  Bushwick (East)  \n",
              "2        193.0  2003055.0       Highbridge  \n",
              "3        160.0  3153522.0        Bay Ridge  \n",
              "4          NaN        NaN              NaN  \n",
              "\n",
              "[5 rows x 25 columns]"
            ],
            "text/html": [
              "\n",
              "  <div id=\"df-1074b313-cd60-49c5-9848-b35523a386be\" class=\"colab-df-container\">\n",
              "    <div>\n",
              "<style scoped>\n",
              "    .dataframe tbody tr th:only-of-type {\n",
              "        vertical-align: middle;\n",
              "    }\n",
              "\n",
              "    .dataframe tbody tr th {\n",
              "        vertical-align: top;\n",
              "    }\n",
              "\n",
              "    .dataframe thead th {\n",
              "        text-align: right;\n",
              "    }\n",
              "</style>\n",
              "<table border=\"1\" class=\"dataframe\">\n",
              "  <thead>\n",
              "    <tr style=\"text-align: right;\">\n",
              "      <th></th>\n",
              "      <th>INSPECTION_TYPE</th>\n",
              "      <th>JOB_TICKET_OR_WORK_ORDER_ID</th>\n",
              "      <th>JOB_ID</th>\n",
              "      <th>JOB_PROGRESS</th>\n",
              "      <th>BBL</th>\n",
              "      <th>BORO_CODE</th>\n",
              "      <th>BLOCK</th>\n",
              "      <th>LOT</th>\n",
              "      <th>HOUSE_NUMBER</th>\n",
              "      <th>STREET_NAME</th>\n",
              "      <th>...</th>\n",
              "      <th>BOROUGH</th>\n",
              "      <th>INSPECTION_DATE</th>\n",
              "      <th>RESULT</th>\n",
              "      <th>APPROVED_DATE</th>\n",
              "      <th>LOCATION</th>\n",
              "      <th>COMMUNITY BOARD</th>\n",
              "      <th>COUNCIL DISTRICT</th>\n",
              "      <th>CENSUS TRACT</th>\n",
              "      <th>BIN</th>\n",
              "      <th>NTA</th>\n",
              "    </tr>\n",
              "  </thead>\n",
              "  <tbody>\n",
              "    <tr>\n",
              "      <th>0</th>\n",
              "      <td>Initial</td>\n",
              "      <td>13398733</td>\n",
              "      <td>PC7868067</td>\n",
              "      <td>1</td>\n",
              "      <td>2.045480e+09</td>\n",
              "      <td>2</td>\n",
              "      <td>4548</td>\n",
              "      <td>131</td>\n",
              "      <td>2996</td>\n",
              "      <td>HOLLAND AVENUE</td>\n",
              "      <td>...</td>\n",
              "      <td>Bronx</td>\n",
              "      <td>05/26/2022 08:15:42 AM</td>\n",
              "      <td>Passed</td>\n",
              "      <td>05/27/2022 08:30:00 AM</td>\n",
              "      <td>(40.869547110196, -73.865257650031)</td>\n",
              "      <td>11.0</td>\n",
              "      <td>15.0</td>\n",
              "      <td>33801.0</td>\n",
              "      <td>2054876.0</td>\n",
              "      <td>Allerton</td>\n",
              "    </tr>\n",
              "    <tr>\n",
              "      <th>1</th>\n",
              "      <td>Initial</td>\n",
              "      <td>13147400</td>\n",
              "      <td>PC7581532</td>\n",
              "      <td>1</td>\n",
              "      <td>3.033500e+09</td>\n",
              "      <td>3</td>\n",
              "      <td>3350</td>\n",
              "      <td>59</td>\n",
              "      <td>103</td>\n",
              "      <td>WOODBINE STREET</td>\n",
              "      <td>...</td>\n",
              "      <td>Brooklyn</td>\n",
              "      <td>03/02/2020 02:30:42 PM</td>\n",
              "      <td>Passed</td>\n",
              "      <td>03/12/2020 12:12:50 PM</td>\n",
              "      <td>(40.691796814585, -73.917465549218)</td>\n",
              "      <td>4.0</td>\n",
              "      <td>34.0</td>\n",
              "      <td>417.0</td>\n",
              "      <td>3076615.0</td>\n",
              "      <td>Bushwick (East)</td>\n",
              "    </tr>\n",
              "    <tr>\n",
              "      <th>2</th>\n",
              "      <td>Compliance</td>\n",
              "      <td>13236586</td>\n",
              "      <td>PC7682651</td>\n",
              "      <td>2</td>\n",
              "      <td>2.025050e+09</td>\n",
              "      <td>2</td>\n",
              "      <td>2505</td>\n",
              "      <td>1</td>\n",
              "      <td>1060</td>\n",
              "      <td>ANDERSON AVENUE</td>\n",
              "      <td>...</td>\n",
              "      <td>Bronx</td>\n",
              "      <td>05/31/2021 09:43:57 AM</td>\n",
              "      <td>Passed</td>\n",
              "      <td>06/02/2021 03:28:03 PM</td>\n",
              "      <td>(40.833723137559, -73.926052122448)</td>\n",
              "      <td>4.0</td>\n",
              "      <td>16.0</td>\n",
              "      <td>193.0</td>\n",
              "      <td>2003055.0</td>\n",
              "      <td>Highbridge</td>\n",
              "    </tr>\n",
              "    <tr>\n",
              "      <th>3</th>\n",
              "      <td>Initial</td>\n",
              "      <td>13163168</td>\n",
              "      <td>PC7585308</td>\n",
              "      <td>1</td>\n",
              "      <td>3.060450e+09</td>\n",
              "      <td>3</td>\n",
              "      <td>6045</td>\n",
              "      <td>6</td>\n",
              "      <td>406</td>\n",
              "      <td>86 STREET</td>\n",
              "      <td>...</td>\n",
              "      <td>Brooklyn</td>\n",
              "      <td>06/16/2020 09:00:42 AM</td>\n",
              "      <td>Passed</td>\n",
              "      <td>07/24/2020 12:11:10 PM</td>\n",
              "      <td>(40.622588788561, -74.028036390824)</td>\n",
              "      <td>10.0</td>\n",
              "      <td>43.0</td>\n",
              "      <td>160.0</td>\n",
              "      <td>3153522.0</td>\n",
              "      <td>Bay Ridge</td>\n",
              "    </tr>\n",
              "    <tr>\n",
              "      <th>4</th>\n",
              "      <td>Initial</td>\n",
              "      <td>13661515</td>\n",
              "      <td>PC8122655</td>\n",
              "      <td>1</td>\n",
              "      <td>NaN</td>\n",
              "      <td>1</td>\n",
              "      <td>529</td>\n",
              "      <td>9</td>\n",
              "      <td>NaN</td>\n",
              "      <td>NaN</td>\n",
              "      <td>...</td>\n",
              "      <td>Manhattan</td>\n",
              "      <td>06/07/2023 04:36:13 PM</td>\n",
              "      <td>Passed</td>\n",
              "      <td>06/08/2023 10:38:30 AM</td>\n",
              "      <td>NaN</td>\n",
              "      <td>NaN</td>\n",
              "      <td>NaN</td>\n",
              "      <td>NaN</td>\n",
              "      <td>NaN</td>\n",
              "      <td>NaN</td>\n",
              "    </tr>\n",
              "  </tbody>\n",
              "</table>\n",
              "<p>5 rows × 25 columns</p>\n",
              "</div>\n",
              "    <div class=\"colab-df-buttons\">\n",
              "\n",
              "  <div class=\"colab-df-container\">\n",
              "    <button class=\"colab-df-convert\" onclick=\"convertToInteractive('df-1074b313-cd60-49c5-9848-b35523a386be')\"\n",
              "            title=\"Convert this dataframe to an interactive table.\"\n",
              "            style=\"display:none;\">\n",
              "\n",
              "  <svg xmlns=\"http://www.w3.org/2000/svg\" height=\"24px\" viewBox=\"0 -960 960 960\">\n",
              "    <path d=\"M120-120v-720h720v720H120Zm60-500h600v-160H180v160Zm220 220h160v-160H400v160Zm0 220h160v-160H400v160ZM180-400h160v-160H180v160Zm440 0h160v-160H620v160ZM180-180h160v-160H180v160Zm440 0h160v-160H620v160Z\"/>\n",
              "  </svg>\n",
              "    </button>\n",
              "\n",
              "  <style>\n",
              "    .colab-df-container {\n",
              "      display:flex;\n",
              "      gap: 12px;\n",
              "    }\n",
              "\n",
              "    .colab-df-convert {\n",
              "      background-color: #E8F0FE;\n",
              "      border: none;\n",
              "      border-radius: 50%;\n",
              "      cursor: pointer;\n",
              "      display: none;\n",
              "      fill: #1967D2;\n",
              "      height: 32px;\n",
              "      padding: 0 0 0 0;\n",
              "      width: 32px;\n",
              "    }\n",
              "\n",
              "    .colab-df-convert:hover {\n",
              "      background-color: #E2EBFA;\n",
              "      box-shadow: 0px 1px 2px rgba(60, 64, 67, 0.3), 0px 1px 3px 1px rgba(60, 64, 67, 0.15);\n",
              "      fill: #174EA6;\n",
              "    }\n",
              "\n",
              "    .colab-df-buttons div {\n",
              "      margin-bottom: 4px;\n",
              "    }\n",
              "\n",
              "    [theme=dark] .colab-df-convert {\n",
              "      background-color: #3B4455;\n",
              "      fill: #D2E3FC;\n",
              "    }\n",
              "\n",
              "    [theme=dark] .colab-df-convert:hover {\n",
              "      background-color: #434B5C;\n",
              "      box-shadow: 0px 1px 3px 1px rgba(0, 0, 0, 0.15);\n",
              "      filter: drop-shadow(0px 1px 2px rgba(0, 0, 0, 0.3));\n",
              "      fill: #FFFFFF;\n",
              "    }\n",
              "  </style>\n",
              "\n",
              "    <script>\n",
              "      const buttonEl =\n",
              "        document.querySelector('#df-1074b313-cd60-49c5-9848-b35523a386be button.colab-df-convert');\n",
              "      buttonEl.style.display =\n",
              "        google.colab.kernel.accessAllowed ? 'block' : 'none';\n",
              "\n",
              "      async function convertToInteractive(key) {\n",
              "        const element = document.querySelector('#df-1074b313-cd60-49c5-9848-b35523a386be');\n",
              "        const dataTable =\n",
              "          await google.colab.kernel.invokeFunction('convertToInteractive',\n",
              "                                                    [key], {});\n",
              "        if (!dataTable) return;\n",
              "\n",
              "        const docLinkHtml = 'Like what you see? Visit the ' +\n",
              "          '<a target=\"_blank\" href=https://colab.research.google.com/notebooks/data_table.ipynb>data table notebook</a>'\n",
              "          + ' to learn more about interactive tables.';\n",
              "        element.innerHTML = '';\n",
              "        dataTable['output_type'] = 'display_data';\n",
              "        await google.colab.output.renderOutput(dataTable, element);\n",
              "        const docLink = document.createElement('div');\n",
              "        docLink.innerHTML = docLinkHtml;\n",
              "        element.appendChild(docLink);\n",
              "      }\n",
              "    </script>\n",
              "  </div>\n",
              "\n",
              "\n",
              "<div id=\"df-03772892-4333-4297-a78d-b5cb3cb88348\">\n",
              "  <button class=\"colab-df-quickchart\" onclick=\"quickchart('df-03772892-4333-4297-a78d-b5cb3cb88348')\"\n",
              "            title=\"Suggest charts.\"\n",
              "            style=\"display:none;\">\n",
              "\n",
              "<svg xmlns=\"http://www.w3.org/2000/svg\" height=\"24px\"viewBox=\"0 0 24 24\"\n",
              "     width=\"24px\">\n",
              "    <g>\n",
              "        <path d=\"M19 3H5c-1.1 0-2 .9-2 2v14c0 1.1.9 2 2 2h14c1.1 0 2-.9 2-2V5c0-1.1-.9-2-2-2zM9 17H7v-7h2v7zm4 0h-2V7h2v10zm4 0h-2v-4h2v4z\"/>\n",
              "    </g>\n",
              "</svg>\n",
              "  </button>\n",
              "\n",
              "<style>\n",
              "  .colab-df-quickchart {\n",
              "    background-color: #E8F0FE;\n",
              "    border: none;\n",
              "    border-radius: 50%;\n",
              "    cursor: pointer;\n",
              "    display: none;\n",
              "    fill: #1967D2;\n",
              "    height: 32px;\n",
              "    padding: 0 0 0 0;\n",
              "    width: 32px;\n",
              "  }\n",
              "\n",
              "  .colab-df-quickchart:hover {\n",
              "    background-color: #E2EBFA;\n",
              "    box-shadow: 0px 1px 2px rgba(60, 64, 67, 0.3), 0px 1px 3px 1px rgba(60, 64, 67, 0.15);\n",
              "    fill: #174EA6;\n",
              "  }\n",
              "\n",
              "  [theme=dark] .colab-df-quickchart {\n",
              "    background-color: #3B4455;\n",
              "    fill: #D2E3FC;\n",
              "  }\n",
              "\n",
              "  [theme=dark] .colab-df-quickchart:hover {\n",
              "    background-color: #434B5C;\n",
              "    box-shadow: 0px 1px 3px 1px rgba(0, 0, 0, 0.15);\n",
              "    filter: drop-shadow(0px 1px 2px rgba(0, 0, 0, 0.3));\n",
              "    fill: #FFFFFF;\n",
              "  }\n",
              "</style>\n",
              "\n",
              "  <script>\n",
              "    async function quickchart(key) {\n",
              "      const charts = await google.colab.kernel.invokeFunction(\n",
              "          'suggestCharts', [key], {});\n",
              "    }\n",
              "    (() => {\n",
              "      let quickchartButtonEl =\n",
              "        document.querySelector('#df-03772892-4333-4297-a78d-b5cb3cb88348 button');\n",
              "      quickchartButtonEl.style.display =\n",
              "        google.colab.kernel.accessAllowed ? 'block' : 'none';\n",
              "    })();\n",
              "  </script>\n",
              "</div>\n",
              "    </div>\n",
              "  </div>\n"
            ]
          },
          "metadata": {},
          "execution_count": 3
        }
      ],
      "source": [
        "#run .head() to get a view of first five rows of df\n",
        "df.head()"
      ]
    },
    {
      "cell_type": "code",
      "execution_count": 4,
      "metadata": {
        "colab": {
          "base_uri": "https://localhost:8080/"
        },
        "id": "d9zx6DrIskmc",
        "outputId": "cc47a31a-dd4a-41ce-d3c1-005e39cee4b3"
      },
      "outputs": [
        {
          "output_type": "execute_result",
          "data": {
            "text/plain": [
              "(2443386, 25)"
            ]
          },
          "metadata": {},
          "execution_count": 4
        }
      ],
      "source": [
        "#run .shape to get a count of rows and columns\n",
        "df.shape"
      ]
    },
    {
      "cell_type": "code",
      "execution_count": 5,
      "metadata": {
        "colab": {
          "base_uri": "https://localhost:8080/"
        },
        "id": "9wOzH-EWuMqx",
        "outputId": "a04680b4-6f2e-4f05-962d-0d41e0b00141"
      },
      "outputs": [
        {
          "output_type": "execute_result",
          "data": {
            "text/plain": [
              "['INSPECTION_TYPE',\n",
              " 'JOB_TICKET_OR_WORK_ORDER_ID',\n",
              " 'JOB_ID',\n",
              " 'JOB_PROGRESS',\n",
              " 'BBL',\n",
              " 'BORO_CODE',\n",
              " 'BLOCK',\n",
              " 'LOT',\n",
              " 'HOUSE_NUMBER',\n",
              " 'STREET_NAME',\n",
              " 'ZIP_CODE',\n",
              " 'X_COORD',\n",
              " 'Y_COORD',\n",
              " 'LATITUDE',\n",
              " 'LONGITUDE',\n",
              " 'BOROUGH',\n",
              " 'INSPECTION_DATE',\n",
              " 'RESULT',\n",
              " 'APPROVED_DATE',\n",
              " 'LOCATION',\n",
              " 'COMMUNITY BOARD',\n",
              " 'COUNCIL DISTRICT',\n",
              " 'CENSUS TRACT',\n",
              " 'BIN',\n",
              " 'NTA']"
            ]
          },
          "metadata": {},
          "execution_count": 5
        }
      ],
      "source": [
        "#display column headings\n",
        "list(df)"
      ]
    },
    {
      "cell_type": "code",
      "execution_count": 6,
      "metadata": {
        "colab": {
          "base_uri": "https://localhost:8080/"
        },
        "id": "8AFN5BbbyBph",
        "outputId": "88732d60-53fa-4cb4-edf8-5c2be62af57b"
      },
      "outputs": [
        {
          "output_type": "execute_result",
          "data": {
            "text/plain": [
              "INSPECTION_TYPE                     0\n",
              "JOB_TICKET_OR_WORK_ORDER_ID         0\n",
              "JOB_ID                              0\n",
              "JOB_PROGRESS                        0\n",
              "BBL                             85172\n",
              "BORO_CODE                           0\n",
              "BLOCK                               0\n",
              "LOT                                 0\n",
              "HOUSE_NUMBER                    50509\n",
              "STREET_NAME                      6944\n",
              "ZIP_CODE                        14823\n",
              "X_COORD                        471946\n",
              "Y_COORD                        471946\n",
              "LATITUDE                        13728\n",
              "LONGITUDE                       13728\n",
              "BOROUGH                           283\n",
              "INSPECTION_DATE                    17\n",
              "RESULT                             33\n",
              "APPROVED_DATE                    5652\n",
              "LOCATION                        14969\n",
              "COMMUNITY BOARD                 68253\n",
              "COUNCIL DISTRICT                68253\n",
              "CENSUS TRACT                    68253\n",
              "BIN                             85172\n",
              "NTA                             68253\n",
              "dtype: int64"
            ]
          },
          "metadata": {},
          "execution_count": 6
        }
      ],
      "source": [
        "#display list of columns with null data\n",
        "df.isnull().sum()"
      ]
    },
    {
      "cell_type": "code",
      "source": [
        "#calculate percentage of null values for each column\n",
        "df.isnull().sum() / len(df) * 100"
      ],
      "metadata": {
        "colab": {
          "base_uri": "https://localhost:8080/"
        },
        "id": "QY68xATg_mRx",
        "outputId": "30d6002d-6e36-49d9-a452-28e38482c3bd"
      },
      "execution_count": 7,
      "outputs": [
        {
          "output_type": "execute_result",
          "data": {
            "text/plain": [
              "INSPECTION_TYPE                 0.000000\n",
              "JOB_TICKET_OR_WORK_ORDER_ID     0.000000\n",
              "JOB_ID                          0.000000\n",
              "JOB_PROGRESS                    0.000000\n",
              "BBL                             3.485818\n",
              "BORO_CODE                       0.000000\n",
              "BLOCK                           0.000000\n",
              "LOT                             0.000000\n",
              "HOUSE_NUMBER                    2.067172\n",
              "STREET_NAME                     0.284196\n",
              "ZIP_CODE                        0.606658\n",
              "X_COORD                        19.315245\n",
              "Y_COORD                        19.315245\n",
              "LATITUDE                        0.561843\n",
              "LONGITUDE                       0.561843\n",
              "BOROUGH                         0.011582\n",
              "INSPECTION_DATE                 0.000696\n",
              "RESULT                          0.001351\n",
              "APPROVED_DATE                   0.231318\n",
              "LOCATION                        0.612633\n",
              "COMMUNITY BOARD                 2.793378\n",
              "COUNCIL DISTRICT                2.793378\n",
              "CENSUS TRACT                    2.793378\n",
              "BIN                             3.485818\n",
              "NTA                             2.793378\n",
              "dtype: float64"
            ]
          },
          "metadata": {},
          "execution_count": 7
        }
      ]
    },
    {
      "cell_type": "code",
      "source": [
        "#find unique values column for groupby operatios\n",
        "df['JOB_TICKET_OR_WORK_ORDER_ID'].is_unique"
      ],
      "metadata": {
        "colab": {
          "base_uri": "https://localhost:8080/"
        },
        "id": "YnHHVNJujTa7",
        "outputId": "6d4294ff-a6c7-4fee-821e-e031b5865e31"
      },
      "execution_count": 8,
      "outputs": [
        {
          "output_type": "execute_result",
          "data": {
            "text/plain": [
              "True"
            ]
          },
          "metadata": {},
          "execution_count": 8
        }
      ]
    },
    {
      "cell_type": "markdown",
      "source": [
        "## **2. CALL-UP DETAILED INFORMATION ON SELECTED COLUMNS**"
      ],
      "metadata": {
        "id": "6u_C1OCx8Ozh"
      }
    },
    {
      "cell_type": "code",
      "source": [
        "#INSPECTION TYPE\n",
        "TYPE = df['INSPECTION_TYPE'].unique().tolist()\n",
        "TYPE"
      ],
      "metadata": {
        "colab": {
          "base_uri": "https://localhost:8080/"
        },
        "id": "jzOhtf0yd_0j",
        "outputId": "f49a1919-0e39-43f0-a23f-6eaa84b686b2"
      },
      "execution_count": 9,
      "outputs": [
        {
          "output_type": "execute_result",
          "data": {
            "text/plain": [
              "['Initial', 'Compliance', 'STOPPAGE', 'BAIT', 'CLEAN_UPS']"
            ]
          },
          "metadata": {},
          "execution_count": 9
        }
      ]
    },
    {
      "cell_type": "code",
      "source": [
        "#RESULT\n",
        "RESULT = df['RESULT'].unique().tolist()\n",
        "RESULT"
      ],
      "metadata": {
        "colab": {
          "base_uri": "https://localhost:8080/"
        },
        "id": "BAU6Nii38zaL",
        "outputId": "1dc2fe2a-d904-479b-8c67-5d659fbe61e4"
      },
      "execution_count": 10,
      "outputs": [
        {
          "output_type": "execute_result",
          "data": {
            "text/plain": [
              "['Passed',\n",
              " 'Failed for Other R',\n",
              " 'Stoppage done',\n",
              " 'Monitoring visit',\n",
              " 'Bait applied',\n",
              " 'Rat Activity',\n",
              " 'Cleanup done',\n",
              " nan]"
            ]
          },
          "metadata": {},
          "execution_count": 10
        }
      ]
    },
    {
      "cell_type": "code",
      "source": [
        "#BIN stands for Building Identification Number,\n",
        "#It's a unique number assigned by the Department of City Planning to identify each building in New York City.\n",
        "#It's a long list so I'm displaying 10 samples to get an idea of what the data looks like\n",
        "BIN_UNIQUE = df['BIN'].unique()\n",
        "BIN_UNIQUE = BIN_UNIQUE.tolist()[:10]\n",
        "print(BIN_UNIQUE)"
      ],
      "metadata": {
        "colab": {
          "base_uri": "https://localhost:8080/"
        },
        "id": "7Eu7iQOu-RSS",
        "outputId": "e892eb96-c281-4923-8d9c-d3f8dc3b5c2a"
      },
      "execution_count": 11,
      "outputs": [
        {
          "output_type": "stream",
          "name": "stdout",
          "text": [
            "[2054876.0, 3076615.0, 2003055.0, 3153522.0, nan, 3393099.0, 1006077.0, 1009507.0, 4083277.0, 2012644.0]\n"
          ]
        }
      ]
    },
    {
      "cell_type": "code",
      "source": [
        "##JOB PROGRESS. This is a set of numerical values that I haven't been able to find correlations for (aka don't know what they mean)\n",
        "PROGRESS = df['JOB_PROGRESS'].unique().tolist()\n",
        "PROGRESS"
      ],
      "metadata": {
        "colab": {
          "base_uri": "https://localhost:8080/"
        },
        "outputId": "6f41add9-3ebf-412a-bda6-d41eac30b14e",
        "id": "wmQBBBlgCgkT"
      },
      "execution_count": 12,
      "outputs": [
        {
          "output_type": "execute_result",
          "data": {
            "text/plain": [
              "[1,\n",
              " 2,\n",
              " 3,\n",
              " 4,\n",
              " 8,\n",
              " 10,\n",
              " 7,\n",
              " 6,\n",
              " 5,\n",
              " 14,\n",
              " 9,\n",
              " 12,\n",
              " 21,\n",
              " 11,\n",
              " 17,\n",
              " 13,\n",
              " 42,\n",
              " 16,\n",
              " 19,\n",
              " 18,\n",
              " 22,\n",
              " 29,\n",
              " 33,\n",
              " 15,\n",
              " 26,\n",
              " 27,\n",
              " 39,\n",
              " 23,\n",
              " 25,\n",
              " 31,\n",
              " 28,\n",
              " 50,\n",
              " 24,\n",
              " 43,\n",
              " 119,\n",
              " 38,\n",
              " 35,\n",
              " 47,\n",
              " 32,\n",
              " 36,\n",
              " 41,\n",
              " 20,\n",
              " 52,\n",
              " 118,\n",
              " 96,\n",
              " 57,\n",
              " 34,\n",
              " 131,\n",
              " 87,\n",
              " 112,\n",
              " 51,\n",
              " 129,\n",
              " 116,\n",
              " 117,\n",
              " 48,\n",
              " 86,\n",
              " 62,\n",
              " 125,\n",
              " 30,\n",
              " 54,\n",
              " 46,\n",
              " 92,\n",
              " 89,\n",
              " 40,\n",
              " 44,\n",
              " 135,\n",
              " 113,\n",
              " 58,\n",
              " 56,\n",
              " 83,\n",
              " 90,\n",
              " 53,\n",
              " 45,\n",
              " 105,\n",
              " 55,\n",
              " 75,\n",
              " 72,\n",
              " 93,\n",
              " 102,\n",
              " 120,\n",
              " 109,\n",
              " 127,\n",
              " 59,\n",
              " 122,\n",
              " 37,\n",
              " 111,\n",
              " 115,\n",
              " 49,\n",
              " 106,\n",
              " 130,\n",
              " 94,\n",
              " 69,\n",
              " 123,\n",
              " 124,\n",
              " 103,\n",
              " 71,\n",
              " 60,\n",
              " 79,\n",
              " 81,\n",
              " 85,\n",
              " 84,\n",
              " 98,\n",
              " 95,\n",
              " 104,\n",
              " 134,\n",
              " 97,\n",
              " 80,\n",
              " 107,\n",
              " 76,\n",
              " 73,\n",
              " 132,\n",
              " 126,\n",
              " 128,\n",
              " 74,\n",
              " 67,\n",
              " 82,\n",
              " 64,\n",
              " 91,\n",
              " 66,\n",
              " 68,\n",
              " 121,\n",
              " 63,\n",
              " 110,\n",
              " 114,\n",
              " 137,\n",
              " 138,\n",
              " 133,\n",
              " 100,\n",
              " 88,\n",
              " 78,\n",
              " 61,\n",
              " 99,\n",
              " 70,\n",
              " 77,\n",
              " 65,\n",
              " 101,\n",
              " 136,\n",
              " 108,\n",
              " 173,\n",
              " 141,\n",
              " 157,\n",
              " 163,\n",
              " 155,\n",
              " 149,\n",
              " 162,\n",
              " 148,\n",
              " 147,\n",
              " 154,\n",
              " 150,\n",
              " 140,\n",
              " 139,\n",
              " 145,\n",
              " 174,\n",
              " 165,\n",
              " 175,\n",
              " 160,\n",
              " 159,\n",
              " 172,\n",
              " 158,\n",
              " 156,\n",
              " 161,\n",
              " 166,\n",
              " 153,\n",
              " 164,\n",
              " 143,\n",
              " 167,\n",
              " 170,\n",
              " 144,\n",
              " 142,\n",
              " 152,\n",
              " 151,\n",
              " 146,\n",
              " 171,\n",
              " 169,\n",
              " 168]"
            ]
          },
          "metadata": {},
          "execution_count": 12
        }
      ]
    },
    {
      "cell_type": "code",
      "source": [
        "#groupby NTA to figure out what it is. It'Neighborhood Tabulation Area.\n",
        "df.groupby(['NTA'])['JOB_TICKET_OR_WORK_ORDER_ID'].count()"
      ],
      "metadata": {
        "colab": {
          "base_uri": "https://localhost:8080/"
        },
        "id": "WDloKpEglDFo",
        "outputId": "952f17da-6511-45e6-b17f-b2783573d000"
      },
      "execution_count": 13,
      "outputs": [
        {
          "output_type": "execute_result",
          "data": {
            "text/plain": [
              "NTA\n",
              "Allerton                                  9814\n",
              "Annadale-Huguenot-Prince's Bay-Woodrow    1881\n",
              "Arden Heights-Rossville                   1417\n",
              "Astoria (Central)                         3850\n",
              "Astoria (East)-Woodside (North)           8711\n",
              "                                          ... \n",
              "Windsor Terrace-South Slope               1783\n",
              "Woodhaven                                 1327\n",
              "Woodlawn Cemetery                            1\n",
              "Woodside                                  5094\n",
              "Yankee Stadium-Macombs Dam Park            252\n",
              "Name: JOB_TICKET_OR_WORK_ORDER_ID, Length: 244, dtype: int64"
            ]
          },
          "metadata": {},
          "execution_count": 13
        }
      ]
    },
    {
      "cell_type": "code",
      "source": [
        "#groupby with LOCATION to figure out what it is. Looks like it's Longitude/Latitude coordinates\n",
        "#plugging a coordinate into Google Maps confirms this\n",
        "df.groupby(['LOCATION'])['JOB_TICKET_OR_WORK_ORDER_ID'].count()"
      ],
      "metadata": {
        "colab": {
          "base_uri": "https://localhost:8080/"
        },
        "id": "jp91Rmi7wSSO",
        "outputId": "f2f38941-8ae2-4942-f719-a265f9076702"
      },
      "execution_count": 14,
      "outputs": [
        {
          "output_type": "execute_result",
          "data": {
            "text/plain": [
              "LOCATION\n",
              "(-18.9070188901517, -79.4661030572311)        2\n",
              "(0.0, 0.0)                                14448\n",
              "(40.4966368903932, -74.2452958220596)         1\n",
              "(40.49879961998, -74.241492898018)            1\n",
              "(40.498916887191, -74.240551279624)           4\n",
              "                                          ...  \n",
              "(40.911581977662, -73.902813648097)           2\n",
              "(40.912212242935, -73.901615157374)           1\n",
              "(40.912566226931, -73.901516944144)           2\n",
              "(40.912822326386, -73.902504292365)           2\n",
              "(40.91286346943, -73.902471669247)            7\n",
              "Name: JOB_TICKET_OR_WORK_ORDER_ID, Length: 347404, dtype: int64"
            ]
          },
          "metadata": {},
          "execution_count": 14
        }
      ]
    },
    {
      "cell_type": "markdown",
      "source": [
        "## **3. CLEAN THE DATA**"
      ],
      "metadata": {
        "id": "WW0ZOOZEYsjw"
      }
    },
    {
      "cell_type": "code",
      "source": [
        "import numpy as np"
      ],
      "metadata": {
        "id": "zdpe5cBcrsx9"
      },
      "execution_count": 15,
      "outputs": []
    },
    {
      "cell_type": "code",
      "source": [
        "#create rats1 dataframe dropping unnecessary columns\n",
        "#Dropping 'BBL' which is a parcel number that represents the Borough, Block, and Lot of each parcel\n",
        "#    there is a high percentate of Null value rows in this Column, and this information is already represented in other columns of the dataset.\n",
        "#Dropping 'X_Coord' and 'Y_Coord' which represent taxlots in NY State Plane Long Island Coordinate system\n",
        "#     this information is already represented in other columns of the dataset\n",
        "#Dropping 'LOCATION' which is a numerical value representing the latitued and longitude of inspection site\n",
        "#     along with LATITUDE and LONGITUDE colums it is likely used in creating maps of inspection sites.\n",
        "#Dropping 'JOB_PROGRESS'as I've been unable to find out what the long list of numerical values refers to\n",
        "rats1 = df[['INSPECTION_TYPE',\n",
        " 'JOB_TICKET_OR_WORK_ORDER_ID',\n",
        " 'JOB_ID',\n",
        " 'BORO_CODE',\n",
        " 'BLOCK',\n",
        " 'LOT',\n",
        " 'HOUSE_NUMBER',\n",
        " 'STREET_NAME',\n",
        " 'ZIP_CODE',\n",
        " 'BOROUGH',\n",
        " 'INSPECTION_DATE',\n",
        " 'RESULT',\n",
        " 'APPROVED_DATE',\n",
        " 'LOCATION',\n",
        " 'COMMUNITY BOARD',\n",
        " 'COUNCIL DISTRICT',\n",
        " 'CENSUS TRACT',\n",
        " 'BIN',\n",
        " 'NTA']]"
      ],
      "metadata": {
        "id": "NuDnnNPbanmx"
      },
      "execution_count": 16,
      "outputs": []
    },
    {
      "cell_type": "code",
      "source": [
        "#to replace null values in BOROUGH column, change all values based on the BORO_CODE column\n",
        "rats1.loc[df['BORO_CODE'].isin(['1']), 'BOROUGH'] = 'Manhattan'\n",
        "rats1.loc[df['BORO_CODE'].isin(['2']), 'BOROUGH'] = 'Bronx'\n",
        "rats1.loc[df['BORO_CODE'].isin(['3']), 'BOROUGH'] = 'Brooklyn'\n",
        "rats1.loc[df['BORO_CODE'].isin(['4']), 'BOROUGH'] = 'Queens'\n",
        "rats1.loc[df['BORO_CODE'].isin(['5']), 'BOROUGH'] = 'Staten Island'"
      ],
      "metadata": {
        "id": "9KSaDGpufJzM"
      },
      "execution_count": 17,
      "outputs": []
    },
    {
      "cell_type": "code",
      "source": [
        "#check BOROUGH changes\n",
        "BOROUGH = rats1['BOROUGH'].unique().tolist()\n",
        "BOROUGH"
      ],
      "metadata": {
        "colab": {
          "base_uri": "https://localhost:8080/"
        },
        "id": "CTf6jTjdswNu",
        "outputId": "9c16e127-4f9c-44b0-cb28-f4850583fd37"
      },
      "execution_count": 18,
      "outputs": [
        {
          "output_type": "execute_result",
          "data": {
            "text/plain": [
              "['Bronx', 'Brooklyn', 'Manhattan', 'Staten Island', 'Queens', nan]"
            ]
          },
          "metadata": {},
          "execution_count": 18
        }
      ]
    },
    {
      "cell_type": "code",
      "source": [
        "#run list of rats1 columns with null data\n",
        "rats1.isnull().sum()"
      ],
      "metadata": {
        "colab": {
          "base_uri": "https://localhost:8080/"
        },
        "id": "MxWQHcZTbNiH",
        "outputId": "9ed15f67-b49d-4f2e-b48d-ad8049821588"
      },
      "execution_count": 19,
      "outputs": [
        {
          "output_type": "execute_result",
          "data": {
            "text/plain": [
              "INSPECTION_TYPE                    0\n",
              "JOB_TICKET_OR_WORK_ORDER_ID        0\n",
              "JOB_ID                             0\n",
              "BORO_CODE                          0\n",
              "BLOCK                              0\n",
              "LOT                                0\n",
              "HOUSE_NUMBER                   50509\n",
              "STREET_NAME                     6944\n",
              "ZIP_CODE                       14823\n",
              "BOROUGH                          283\n",
              "INSPECTION_DATE                   17\n",
              "RESULT                            33\n",
              "APPROVED_DATE                   5652\n",
              "LOCATION                       14969\n",
              "COMMUNITY BOARD                68253\n",
              "COUNCIL DISTRICT               68253\n",
              "CENSUS TRACT                   68253\n",
              "BIN                            85172\n",
              "NTA                            68253\n",
              "dtype: int64"
            ]
          },
          "metadata": {},
          "execution_count": 19
        }
      ]
    },
    {
      "cell_type": "code",
      "source": [
        "#run list of data types for all rats1 columns\n",
        "rats1.dtypes"
      ],
      "metadata": {
        "colab": {
          "base_uri": "https://localhost:8080/"
        },
        "id": "jKHnOfkI5z6Y",
        "outputId": "f1b4d0c2-180f-4df7-de5b-35811977a270"
      },
      "execution_count": 20,
      "outputs": [
        {
          "output_type": "execute_result",
          "data": {
            "text/plain": [
              "INSPECTION_TYPE                 object\n",
              "JOB_TICKET_OR_WORK_ORDER_ID      int64\n",
              "JOB_ID                          object\n",
              "BORO_CODE                        int64\n",
              "BLOCK                            int64\n",
              "LOT                              int64\n",
              "HOUSE_NUMBER                    object\n",
              "STREET_NAME                     object\n",
              "ZIP_CODE                       float64\n",
              "BOROUGH                         object\n",
              "INSPECTION_DATE                 object\n",
              "RESULT                          object\n",
              "APPROVED_DATE                   object\n",
              "LOCATION                        object\n",
              "COMMUNITY BOARD                float64\n",
              "COUNCIL DISTRICT               float64\n",
              "CENSUS TRACT                   float64\n",
              "BIN                            float64\n",
              "NTA                             object\n",
              "dtype: object"
            ]
          },
          "metadata": {},
          "execution_count": 20
        }
      ]
    },
    {
      "cell_type": "code",
      "source": [
        "#replace null values in select columns\n",
        "rats1.loc[rats1['HOUSE_NUMBER'].isnull(), 'HOUSE_NUMBER'] = 'MISSING'\n",
        "rats1.loc[rats1['STREET_NAME'].isnull(), 'STREET_NAME'] = 'MISSING'\n",
        "rats1.loc[rats1['ZIP_CODE'].isnull(), 'ZIP_CODE'] = '0'\n",
        "rats1.loc[rats1['BOROUGH'].isnull(), 'BOROUGH'] = 'MISSING'\n",
        "rats1.loc[rats1['INSPECTION_DATE'].isnull(), 'INSPECTION_DATE'] = 'MISSING'\n",
        "rats1.loc[rats1['RESULT'].isnull(), 'RESULT'] = 'MISSING'\n",
        "rats1.loc[rats1['APPROVED_DATE'].isnull(),'APPROVED_DATE'] = 'MISSING'\n",
        "rats1.loc[rats1['LOCATION'].isnull(), 'LOCATION'] = 'MISSING'\n",
        "rats1.loc[rats1['COMMUNITY BOARD'].isnull(), 'COMMUNITY BOARD'] = '0'\n",
        "rats1.loc[rats1['COUNCIL DISTRICT'].isnull(), 'COUNCIL DISTRICT'] = '0'\n",
        "rats1.loc[rats1['CENSUS TRACT'].isnull(), 'CENSUS TRACT'] = '0'\n",
        "rats1.loc[rats1['BIN'].isnull(), 'BIN'] = '0'\n",
        "rats1.loc[rats1['NTA'].isnull(), 'NTA'] = 'MISSING'"
      ],
      "metadata": {
        "id": "NQEPIQhxP3Rk"
      },
      "execution_count": 21,
      "outputs": []
    },
    {
      "cell_type": "code",
      "source": [
        "#convert float columns to integers\n",
        "rats1 = rats1.astype({\"ZIP_CODE\":'int', \"COMMUNITY BOARD\":'int',\"CENSUS TRACT\":'int',\"COUNCIL DISTRICT\":'int',\"BIN\":'int'})"
      ],
      "metadata": {
        "id": "GM5M1uZ2TuEu"
      },
      "execution_count": 22,
      "outputs": []
    },
    {
      "cell_type": "code",
      "source": [
        "#rerun list of rats1 columns with null data to check that all null values were replaced\n",
        "rats1.isnull().sum()"
      ],
      "metadata": {
        "colab": {
          "base_uri": "https://localhost:8080/"
        },
        "id": "LMtmz0rBaKtu",
        "outputId": "916c5095-59d5-4cbe-d3f4-fdae6b068293"
      },
      "execution_count": 23,
      "outputs": [
        {
          "output_type": "execute_result",
          "data": {
            "text/plain": [
              "INSPECTION_TYPE                0\n",
              "JOB_TICKET_OR_WORK_ORDER_ID    0\n",
              "JOB_ID                         0\n",
              "BORO_CODE                      0\n",
              "BLOCK                          0\n",
              "LOT                            0\n",
              "HOUSE_NUMBER                   0\n",
              "STREET_NAME                    0\n",
              "ZIP_CODE                       0\n",
              "BOROUGH                        0\n",
              "INSPECTION_DATE                0\n",
              "RESULT                         0\n",
              "APPROVED_DATE                  0\n",
              "LOCATION                       0\n",
              "COMMUNITY BOARD                0\n",
              "COUNCIL DISTRICT               0\n",
              "CENSUS TRACT                   0\n",
              "BIN                            0\n",
              "NTA                            0\n",
              "dtype: int64"
            ]
          },
          "metadata": {},
          "execution_count": 23
        }
      ]
    },
    {
      "cell_type": "code",
      "source": [
        "#rerun list of data types for all rats1 columns to confirm that all float datatypes were converted to integer\n",
        "rats1.dtypes"
      ],
      "metadata": {
        "colab": {
          "base_uri": "https://localhost:8080/"
        },
        "id": "mCVYAw6IcXNk",
        "outputId": "7ac2196c-fdad-4007-e642-fd92bf5e7f15"
      },
      "execution_count": 24,
      "outputs": [
        {
          "output_type": "execute_result",
          "data": {
            "text/plain": [
              "INSPECTION_TYPE                object\n",
              "JOB_TICKET_OR_WORK_ORDER_ID     int64\n",
              "JOB_ID                         object\n",
              "BORO_CODE                       int64\n",
              "BLOCK                           int64\n",
              "LOT                             int64\n",
              "HOUSE_NUMBER                   object\n",
              "STREET_NAME                    object\n",
              "ZIP_CODE                        int64\n",
              "BOROUGH                        object\n",
              "INSPECTION_DATE                object\n",
              "RESULT                         object\n",
              "APPROVED_DATE                  object\n",
              "LOCATION                       object\n",
              "COMMUNITY BOARD                 int64\n",
              "COUNCIL DISTRICT                int64\n",
              "CENSUS TRACT                    int64\n",
              "BIN                             int64\n",
              "NTA                            object\n",
              "dtype: object"
            ]
          },
          "metadata": {},
          "execution_count": 24
        }
      ]
    },
    {
      "cell_type": "markdown",
      "source": [
        "## **4. RUN STATISTICAL ANALYSIS TO GET AN OVERVIEW OF THE NYC RAT POPULATION PROBLEM**"
      ],
      "metadata": {
        "id": "6gga9Y0XY4Th"
      }
    },
    {
      "cell_type": "code",
      "source": [
        "#create rats2 dataframe limiting only to 'initial' for 'INSPECTION_TYPE' and 'Rat Activity' for 'RESULT'\n",
        "#this will limit reduntant reports for specific locations\n",
        "rats2 = rats1[(rats1['RESULT'] =='Rat Activity') & (rats1['INSPECTION_TYPE']=='Initial')]"
      ],
      "metadata": {
        "id": "qX02G_IbDGgV"
      },
      "execution_count": 25,
      "outputs": []
    },
    {
      "cell_type": "code",
      "source": [
        "#confirm rats2 RESULT column only contains value 'Rat Activity'\n",
        "RESULT = rats2['RESULT'].unique().tolist()\n",
        "RESULT"
      ],
      "metadata": {
        "colab": {
          "base_uri": "https://localhost:8080/"
        },
        "id": "S5uCUX-DHEkr",
        "outputId": "81fe19ed-4d7b-4743-a889-0f9deb340e7e"
      },
      "execution_count": 26,
      "outputs": [
        {
          "output_type": "execute_result",
          "data": {
            "text/plain": [
              "['Rat Activity']"
            ]
          },
          "metadata": {},
          "execution_count": 26
        }
      ]
    },
    {
      "cell_type": "code",
      "source": [
        "#confirm rats2 'INSPECTION_TYPE' column only contains value 'Initial'\n",
        "RESULT = rats2['INSPECTION_TYPE'].unique().tolist()\n",
        "RESULT"
      ],
      "metadata": {
        "colab": {
          "base_uri": "https://localhost:8080/"
        },
        "id": "3jLt5Q8RMTw2",
        "outputId": "5cce8147-f363-48c9-c2ac-988cdb3d2899"
      },
      "execution_count": 27,
      "outputs": [
        {
          "output_type": "execute_result",
          "data": {
            "text/plain": [
              "['Initial']"
            ]
          },
          "metadata": {},
          "execution_count": 27
        }
      ]
    },
    {
      "cell_type": "code",
      "source": [
        "#run rats2.head() to view a sample of the new dataframe\n",
        "rats2.head()"
      ],
      "metadata": {
        "colab": {
          "base_uri": "https://localhost:8080/",
          "height": 330
        },
        "id": "oyuXhx72JOaG",
        "outputId": "42cfb256-b6ed-4db8-c83c-c4a09c2601a3"
      },
      "execution_count": 28,
      "outputs": [
        {
          "output_type": "execute_result",
          "data": {
            "text/plain": [
              "   INSPECTION_TYPE  JOB_TICKET_OR_WORK_ORDER_ID     JOB_ID  BORO_CODE  BLOCK  \\\n",
              "20         Initial                     13691845  PC8162969          2   2868   \n",
              "23         Initial                     13605525  PC8065328          1   1690   \n",
              "24         Initial                     13702353  PC8173580          1    592   \n",
              "27         Initial                     13606033  PC8072949          2   3212   \n",
              "28         Initial                     13218538  PC7693337          3   1997   \n",
              "\n",
              "    LOT HOUSE_NUMBER         STREET_NAME  ZIP_CODE    BOROUGH  \\\n",
              "20    5         0000   UNIVERSITY AVENUE         0      Bronx   \n",
              "23   10            F           D R DRIVE     10029  Manhattan   \n",
              "24   87          000  CHRISTOPHER STREET         0  Manhattan   \n",
              "27    1         0000     AQUEDUCT AVENUE         0      Bronx   \n",
              "28   16      MISSING             MISSING     11238   Brooklyn   \n",
              "\n",
              "           INSPECTION_DATE        RESULT           APPROVED_DATE    LOCATION  \\\n",
              "20  07/31/2023 10:50:00 AM  Rat Activity  08/02/2023 10:13:37 AM  (0.0, 0.0)   \n",
              "23  03/24/2023 07:30:00 AM  Rat Activity  03/27/2023 09:37:29 AM     MISSING   \n",
              "24  08/17/2023 08:45:10 AM  Rat Activity  08/18/2023 03:09:34 PM  (0.0, 0.0)   \n",
              "27  03/23/2023 11:25:30 AM  Rat Activity  03/28/2023 11:51:21 AM  (0.0, 0.0)   \n",
              "28  04/19/2021 01:42:51 PM  Rat Activity  04/20/2021 10:29:34 PM     MISSING   \n",
              "\n",
              "    COMMUNITY BOARD  COUNCIL DISTRICT  CENSUS TRACT  BIN      NTA  \n",
              "20                0                 0             0    0  MISSING  \n",
              "23                0                 0             0    0  MISSING  \n",
              "24                0                 0             0    0  MISSING  \n",
              "27                0                 0             0    0  MISSING  \n",
              "28                0                 0             0    0  MISSING  "
            ],
            "text/html": [
              "\n",
              "  <div id=\"df-cd4ac028-0516-4d99-b12f-7f4942e408b9\" class=\"colab-df-container\">\n",
              "    <div>\n",
              "<style scoped>\n",
              "    .dataframe tbody tr th:only-of-type {\n",
              "        vertical-align: middle;\n",
              "    }\n",
              "\n",
              "    .dataframe tbody tr th {\n",
              "        vertical-align: top;\n",
              "    }\n",
              "\n",
              "    .dataframe thead th {\n",
              "        text-align: right;\n",
              "    }\n",
              "</style>\n",
              "<table border=\"1\" class=\"dataframe\">\n",
              "  <thead>\n",
              "    <tr style=\"text-align: right;\">\n",
              "      <th></th>\n",
              "      <th>INSPECTION_TYPE</th>\n",
              "      <th>JOB_TICKET_OR_WORK_ORDER_ID</th>\n",
              "      <th>JOB_ID</th>\n",
              "      <th>BORO_CODE</th>\n",
              "      <th>BLOCK</th>\n",
              "      <th>LOT</th>\n",
              "      <th>HOUSE_NUMBER</th>\n",
              "      <th>STREET_NAME</th>\n",
              "      <th>ZIP_CODE</th>\n",
              "      <th>BOROUGH</th>\n",
              "      <th>INSPECTION_DATE</th>\n",
              "      <th>RESULT</th>\n",
              "      <th>APPROVED_DATE</th>\n",
              "      <th>LOCATION</th>\n",
              "      <th>COMMUNITY BOARD</th>\n",
              "      <th>COUNCIL DISTRICT</th>\n",
              "      <th>CENSUS TRACT</th>\n",
              "      <th>BIN</th>\n",
              "      <th>NTA</th>\n",
              "    </tr>\n",
              "  </thead>\n",
              "  <tbody>\n",
              "    <tr>\n",
              "      <th>20</th>\n",
              "      <td>Initial</td>\n",
              "      <td>13691845</td>\n",
              "      <td>PC8162969</td>\n",
              "      <td>2</td>\n",
              "      <td>2868</td>\n",
              "      <td>5</td>\n",
              "      <td>0000</td>\n",
              "      <td>UNIVERSITY AVENUE</td>\n",
              "      <td>0</td>\n",
              "      <td>Bronx</td>\n",
              "      <td>07/31/2023 10:50:00 AM</td>\n",
              "      <td>Rat Activity</td>\n",
              "      <td>08/02/2023 10:13:37 AM</td>\n",
              "      <td>(0.0, 0.0)</td>\n",
              "      <td>0</td>\n",
              "      <td>0</td>\n",
              "      <td>0</td>\n",
              "      <td>0</td>\n",
              "      <td>MISSING</td>\n",
              "    </tr>\n",
              "    <tr>\n",
              "      <th>23</th>\n",
              "      <td>Initial</td>\n",
              "      <td>13605525</td>\n",
              "      <td>PC8065328</td>\n",
              "      <td>1</td>\n",
              "      <td>1690</td>\n",
              "      <td>10</td>\n",
              "      <td>F</td>\n",
              "      <td>D R DRIVE</td>\n",
              "      <td>10029</td>\n",
              "      <td>Manhattan</td>\n",
              "      <td>03/24/2023 07:30:00 AM</td>\n",
              "      <td>Rat Activity</td>\n",
              "      <td>03/27/2023 09:37:29 AM</td>\n",
              "      <td>MISSING</td>\n",
              "      <td>0</td>\n",
              "      <td>0</td>\n",
              "      <td>0</td>\n",
              "      <td>0</td>\n",
              "      <td>MISSING</td>\n",
              "    </tr>\n",
              "    <tr>\n",
              "      <th>24</th>\n",
              "      <td>Initial</td>\n",
              "      <td>13702353</td>\n",
              "      <td>PC8173580</td>\n",
              "      <td>1</td>\n",
              "      <td>592</td>\n",
              "      <td>87</td>\n",
              "      <td>000</td>\n",
              "      <td>CHRISTOPHER STREET</td>\n",
              "      <td>0</td>\n",
              "      <td>Manhattan</td>\n",
              "      <td>08/17/2023 08:45:10 AM</td>\n",
              "      <td>Rat Activity</td>\n",
              "      <td>08/18/2023 03:09:34 PM</td>\n",
              "      <td>(0.0, 0.0)</td>\n",
              "      <td>0</td>\n",
              "      <td>0</td>\n",
              "      <td>0</td>\n",
              "      <td>0</td>\n",
              "      <td>MISSING</td>\n",
              "    </tr>\n",
              "    <tr>\n",
              "      <th>27</th>\n",
              "      <td>Initial</td>\n",
              "      <td>13606033</td>\n",
              "      <td>PC8072949</td>\n",
              "      <td>2</td>\n",
              "      <td>3212</td>\n",
              "      <td>1</td>\n",
              "      <td>0000</td>\n",
              "      <td>AQUEDUCT AVENUE</td>\n",
              "      <td>0</td>\n",
              "      <td>Bronx</td>\n",
              "      <td>03/23/2023 11:25:30 AM</td>\n",
              "      <td>Rat Activity</td>\n",
              "      <td>03/28/2023 11:51:21 AM</td>\n",
              "      <td>(0.0, 0.0)</td>\n",
              "      <td>0</td>\n",
              "      <td>0</td>\n",
              "      <td>0</td>\n",
              "      <td>0</td>\n",
              "      <td>MISSING</td>\n",
              "    </tr>\n",
              "    <tr>\n",
              "      <th>28</th>\n",
              "      <td>Initial</td>\n",
              "      <td>13218538</td>\n",
              "      <td>PC7693337</td>\n",
              "      <td>3</td>\n",
              "      <td>1997</td>\n",
              "      <td>16</td>\n",
              "      <td>MISSING</td>\n",
              "      <td>MISSING</td>\n",
              "      <td>11238</td>\n",
              "      <td>Brooklyn</td>\n",
              "      <td>04/19/2021 01:42:51 PM</td>\n",
              "      <td>Rat Activity</td>\n",
              "      <td>04/20/2021 10:29:34 PM</td>\n",
              "      <td>MISSING</td>\n",
              "      <td>0</td>\n",
              "      <td>0</td>\n",
              "      <td>0</td>\n",
              "      <td>0</td>\n",
              "      <td>MISSING</td>\n",
              "    </tr>\n",
              "  </tbody>\n",
              "</table>\n",
              "</div>\n",
              "    <div class=\"colab-df-buttons\">\n",
              "\n",
              "  <div class=\"colab-df-container\">\n",
              "    <button class=\"colab-df-convert\" onclick=\"convertToInteractive('df-cd4ac028-0516-4d99-b12f-7f4942e408b9')\"\n",
              "            title=\"Convert this dataframe to an interactive table.\"\n",
              "            style=\"display:none;\">\n",
              "\n",
              "  <svg xmlns=\"http://www.w3.org/2000/svg\" height=\"24px\" viewBox=\"0 -960 960 960\">\n",
              "    <path d=\"M120-120v-720h720v720H120Zm60-500h600v-160H180v160Zm220 220h160v-160H400v160Zm0 220h160v-160H400v160ZM180-400h160v-160H180v160Zm440 0h160v-160H620v160ZM180-180h160v-160H180v160Zm440 0h160v-160H620v160Z\"/>\n",
              "  </svg>\n",
              "    </button>\n",
              "\n",
              "  <style>\n",
              "    .colab-df-container {\n",
              "      display:flex;\n",
              "      gap: 12px;\n",
              "    }\n",
              "\n",
              "    .colab-df-convert {\n",
              "      background-color: #E8F0FE;\n",
              "      border: none;\n",
              "      border-radius: 50%;\n",
              "      cursor: pointer;\n",
              "      display: none;\n",
              "      fill: #1967D2;\n",
              "      height: 32px;\n",
              "      padding: 0 0 0 0;\n",
              "      width: 32px;\n",
              "    }\n",
              "\n",
              "    .colab-df-convert:hover {\n",
              "      background-color: #E2EBFA;\n",
              "      box-shadow: 0px 1px 2px rgba(60, 64, 67, 0.3), 0px 1px 3px 1px rgba(60, 64, 67, 0.15);\n",
              "      fill: #174EA6;\n",
              "    }\n",
              "\n",
              "    .colab-df-buttons div {\n",
              "      margin-bottom: 4px;\n",
              "    }\n",
              "\n",
              "    [theme=dark] .colab-df-convert {\n",
              "      background-color: #3B4455;\n",
              "      fill: #D2E3FC;\n",
              "    }\n",
              "\n",
              "    [theme=dark] .colab-df-convert:hover {\n",
              "      background-color: #434B5C;\n",
              "      box-shadow: 0px 1px 3px 1px rgba(0, 0, 0, 0.15);\n",
              "      filter: drop-shadow(0px 1px 2px rgba(0, 0, 0, 0.3));\n",
              "      fill: #FFFFFF;\n",
              "    }\n",
              "  </style>\n",
              "\n",
              "    <script>\n",
              "      const buttonEl =\n",
              "        document.querySelector('#df-cd4ac028-0516-4d99-b12f-7f4942e408b9 button.colab-df-convert');\n",
              "      buttonEl.style.display =\n",
              "        google.colab.kernel.accessAllowed ? 'block' : 'none';\n",
              "\n",
              "      async function convertToInteractive(key) {\n",
              "        const element = document.querySelector('#df-cd4ac028-0516-4d99-b12f-7f4942e408b9');\n",
              "        const dataTable =\n",
              "          await google.colab.kernel.invokeFunction('convertToInteractive',\n",
              "                                                    [key], {});\n",
              "        if (!dataTable) return;\n",
              "\n",
              "        const docLinkHtml = 'Like what you see? Visit the ' +\n",
              "          '<a target=\"_blank\" href=https://colab.research.google.com/notebooks/data_table.ipynb>data table notebook</a>'\n",
              "          + ' to learn more about interactive tables.';\n",
              "        element.innerHTML = '';\n",
              "        dataTable['output_type'] = 'display_data';\n",
              "        await google.colab.output.renderOutput(dataTable, element);\n",
              "        const docLink = document.createElement('div');\n",
              "        docLink.innerHTML = docLinkHtml;\n",
              "        element.appendChild(docLink);\n",
              "      }\n",
              "    </script>\n",
              "  </div>\n",
              "\n",
              "\n",
              "<div id=\"df-4510a6b3-a4a8-48df-a00b-20592e5ddd0c\">\n",
              "  <button class=\"colab-df-quickchart\" onclick=\"quickchart('df-4510a6b3-a4a8-48df-a00b-20592e5ddd0c')\"\n",
              "            title=\"Suggest charts.\"\n",
              "            style=\"display:none;\">\n",
              "\n",
              "<svg xmlns=\"http://www.w3.org/2000/svg\" height=\"24px\"viewBox=\"0 0 24 24\"\n",
              "     width=\"24px\">\n",
              "    <g>\n",
              "        <path d=\"M19 3H5c-1.1 0-2 .9-2 2v14c0 1.1.9 2 2 2h14c1.1 0 2-.9 2-2V5c0-1.1-.9-2-2-2zM9 17H7v-7h2v7zm4 0h-2V7h2v10zm4 0h-2v-4h2v4z\"/>\n",
              "    </g>\n",
              "</svg>\n",
              "  </button>\n",
              "\n",
              "<style>\n",
              "  .colab-df-quickchart {\n",
              "    background-color: #E8F0FE;\n",
              "    border: none;\n",
              "    border-radius: 50%;\n",
              "    cursor: pointer;\n",
              "    display: none;\n",
              "    fill: #1967D2;\n",
              "    height: 32px;\n",
              "    padding: 0 0 0 0;\n",
              "    width: 32px;\n",
              "  }\n",
              "\n",
              "  .colab-df-quickchart:hover {\n",
              "    background-color: #E2EBFA;\n",
              "    box-shadow: 0px 1px 2px rgba(60, 64, 67, 0.3), 0px 1px 3px 1px rgba(60, 64, 67, 0.15);\n",
              "    fill: #174EA6;\n",
              "  }\n",
              "\n",
              "  [theme=dark] .colab-df-quickchart {\n",
              "    background-color: #3B4455;\n",
              "    fill: #D2E3FC;\n",
              "  }\n",
              "\n",
              "  [theme=dark] .colab-df-quickchart:hover {\n",
              "    background-color: #434B5C;\n",
              "    box-shadow: 0px 1px 3px 1px rgba(0, 0, 0, 0.15);\n",
              "    filter: drop-shadow(0px 1px 2px rgba(0, 0, 0, 0.3));\n",
              "    fill: #FFFFFF;\n",
              "  }\n",
              "</style>\n",
              "\n",
              "  <script>\n",
              "    async function quickchart(key) {\n",
              "      const charts = await google.colab.kernel.invokeFunction(\n",
              "          'suggestCharts', [key], {});\n",
              "    }\n",
              "    (() => {\n",
              "      let quickchartButtonEl =\n",
              "        document.querySelector('#df-4510a6b3-a4a8-48df-a00b-20592e5ddd0c button');\n",
              "      quickchartButtonEl.style.display =\n",
              "        google.colab.kernel.accessAllowed ? 'block' : 'none';\n",
              "    })();\n",
              "  </script>\n",
              "</div>\n",
              "    </div>\n",
              "  </div>\n"
            ]
          },
          "metadata": {},
          "execution_count": 28
        }
      ]
    },
    {
      "cell_type": "code",
      "source": [
        "#run rats2.shape() to get a count of rows/columns\n",
        "rats2.shape"
      ],
      "metadata": {
        "colab": {
          "base_uri": "https://localhost:8080/"
        },
        "id": "YPdV8CUUJ1Gw",
        "outputId": "17c9b886-5649-4bcd-cb58-9d50774005c4"
      },
      "execution_count": 29,
      "outputs": [
        {
          "output_type": "execute_result",
          "data": {
            "text/plain": [
              "(246951, 19)"
            ]
          },
          "metadata": {},
          "execution_count": 29
        }
      ]
    },
    {
      "cell_type": "code",
      "source": [
        "#Find the ten locations citywide with the most indpections\n",
        "BIN = rats2.groupby(['BIN'])['JOB_TICKET_OR_WORK_ORDER_ID'].count().sort_values(ascending=False).head(15)\n",
        "BIN\n",
        "#It looks like the first four rows are dummy results (including the 0 result I used to clean-up null values).\n",
        "#The first real value, 1077504, is, according to the DOB BIN locator:\n",
        "#132 AVENUE D MANHATTAN 10009 BIN#1077504\n",
        "#https://a810-bisweb.nyc.gov/bisweb/PropertyProfileOverviewServlet?bin=1077504&go4=+GO+&requestid=0"
      ],
      "metadata": {
        "colab": {
          "base_uri": "https://localhost:8080/"
        },
        "id": "BIAMrbgjPqHZ",
        "outputId": "0df1dcbb-05e3-4f03-bb87-44815e37f8e8"
      },
      "execution_count": 30,
      "outputs": [
        {
          "output_type": "execute_result",
          "data": {
            "text/plain": [
              "BIN\n",
              "0          10105\n",
              "2000000     4612\n",
              "1000000     4033\n",
              "3000000     2692\n",
              "4000000      332\n",
              "1077504      117\n",
              "2011855       85\n",
              "1089325       85\n",
              "2092109       83\n",
              "2092078       74\n",
              "2092074       73\n",
              "1075625       73\n",
              "2092082       72\n",
              "1075623       72\n",
              "2091187       70\n",
              "Name: JOB_TICKET_OR_WORK_ORDER_ID, dtype: int64"
            ]
          },
          "metadata": {},
          "execution_count": 30
        }
      ]
    },
    {
      "cell_type": "code",
      "source": [
        "#Locate the addresses of the 10 worst violators\n",
        "options = [1077504, 2011855, 1089325, 2092109, 2092078, 2092074, 1075625, 2092082, 1075623, 2091187]\n",
        "mask = rats2['BIN'].isin(options)\n",
        "WORSTRATS = rats2[mask][['BIN', 'BOROUGH', 'HOUSE_NUMBER', 'STREET_NAME', 'ZIP_CODE']]\n",
        "WORSTRATS = WORSTRATS.drop_duplicates(subset='BIN')\n",
        "WORSTRATS = WORSTRATS.sort_values(by=['BOROUGH', 'ZIP_CODE','STREET_NAME', 'HOUSE_NUMBER'])\n",
        "WORSTRATS"
      ],
      "metadata": {
        "colab": {
          "base_uri": "https://localhost:8080/",
          "height": 363
        },
        "id": "pXp9hSQSWd9r",
        "outputId": "a320d687-d119-4182-c0c2-75a28364c2a6"
      },
      "execution_count": 31,
      "outputs": [
        {
          "output_type": "execute_result",
          "data": {
            "text/plain": [
              "            BIN    BOROUGH HOUSE_NUMBER        STREET_NAME  ZIP_CODE\n",
              "140208  2092082      Bronx         3603           3 AVENUE     10456\n",
              "101606  2092109      Bronx         1410  WASHINGTON AVENUE     10456\n",
              "4055    2091187      Bronx         1230     WEBSTER AVENUE     10456\n",
              "183164  2092074      Bronx         1320     WEBSTER AVENUE     10456\n",
              "90365   2092078      Bronx         1402     WEBSTER AVENUE     10456\n",
              "120550  2011855      Bronx          559    EAST 180 STREET     10457\n",
              "195101  1075623  Manhattan           72           AVENUE C     10009\n",
              "194074  1077504  Manhattan          134           AVENUE D     10009\n",
              "194749  1075625  Manhattan          636   EAST    5 STREET     10009\n",
              "291219  1089325  Manhattan          281       LENOX AVENUE     10027"
            ],
            "text/html": [
              "\n",
              "  <div id=\"df-1cfdb2f0-58d8-4046-831f-7d7ba681fbd9\" class=\"colab-df-container\">\n",
              "    <div>\n",
              "<style scoped>\n",
              "    .dataframe tbody tr th:only-of-type {\n",
              "        vertical-align: middle;\n",
              "    }\n",
              "\n",
              "    .dataframe tbody tr th {\n",
              "        vertical-align: top;\n",
              "    }\n",
              "\n",
              "    .dataframe thead th {\n",
              "        text-align: right;\n",
              "    }\n",
              "</style>\n",
              "<table border=\"1\" class=\"dataframe\">\n",
              "  <thead>\n",
              "    <tr style=\"text-align: right;\">\n",
              "      <th></th>\n",
              "      <th>BIN</th>\n",
              "      <th>BOROUGH</th>\n",
              "      <th>HOUSE_NUMBER</th>\n",
              "      <th>STREET_NAME</th>\n",
              "      <th>ZIP_CODE</th>\n",
              "    </tr>\n",
              "  </thead>\n",
              "  <tbody>\n",
              "    <tr>\n",
              "      <th>140208</th>\n",
              "      <td>2092082</td>\n",
              "      <td>Bronx</td>\n",
              "      <td>3603</td>\n",
              "      <td>3 AVENUE</td>\n",
              "      <td>10456</td>\n",
              "    </tr>\n",
              "    <tr>\n",
              "      <th>101606</th>\n",
              "      <td>2092109</td>\n",
              "      <td>Bronx</td>\n",
              "      <td>1410</td>\n",
              "      <td>WASHINGTON AVENUE</td>\n",
              "      <td>10456</td>\n",
              "    </tr>\n",
              "    <tr>\n",
              "      <th>4055</th>\n",
              "      <td>2091187</td>\n",
              "      <td>Bronx</td>\n",
              "      <td>1230</td>\n",
              "      <td>WEBSTER AVENUE</td>\n",
              "      <td>10456</td>\n",
              "    </tr>\n",
              "    <tr>\n",
              "      <th>183164</th>\n",
              "      <td>2092074</td>\n",
              "      <td>Bronx</td>\n",
              "      <td>1320</td>\n",
              "      <td>WEBSTER AVENUE</td>\n",
              "      <td>10456</td>\n",
              "    </tr>\n",
              "    <tr>\n",
              "      <th>90365</th>\n",
              "      <td>2092078</td>\n",
              "      <td>Bronx</td>\n",
              "      <td>1402</td>\n",
              "      <td>WEBSTER AVENUE</td>\n",
              "      <td>10456</td>\n",
              "    </tr>\n",
              "    <tr>\n",
              "      <th>120550</th>\n",
              "      <td>2011855</td>\n",
              "      <td>Bronx</td>\n",
              "      <td>559</td>\n",
              "      <td>EAST 180 STREET</td>\n",
              "      <td>10457</td>\n",
              "    </tr>\n",
              "    <tr>\n",
              "      <th>195101</th>\n",
              "      <td>1075623</td>\n",
              "      <td>Manhattan</td>\n",
              "      <td>72</td>\n",
              "      <td>AVENUE C</td>\n",
              "      <td>10009</td>\n",
              "    </tr>\n",
              "    <tr>\n",
              "      <th>194074</th>\n",
              "      <td>1077504</td>\n",
              "      <td>Manhattan</td>\n",
              "      <td>134</td>\n",
              "      <td>AVENUE D</td>\n",
              "      <td>10009</td>\n",
              "    </tr>\n",
              "    <tr>\n",
              "      <th>194749</th>\n",
              "      <td>1075625</td>\n",
              "      <td>Manhattan</td>\n",
              "      <td>636</td>\n",
              "      <td>EAST    5 STREET</td>\n",
              "      <td>10009</td>\n",
              "    </tr>\n",
              "    <tr>\n",
              "      <th>291219</th>\n",
              "      <td>1089325</td>\n",
              "      <td>Manhattan</td>\n",
              "      <td>281</td>\n",
              "      <td>LENOX AVENUE</td>\n",
              "      <td>10027</td>\n",
              "    </tr>\n",
              "  </tbody>\n",
              "</table>\n",
              "</div>\n",
              "    <div class=\"colab-df-buttons\">\n",
              "\n",
              "  <div class=\"colab-df-container\">\n",
              "    <button class=\"colab-df-convert\" onclick=\"convertToInteractive('df-1cfdb2f0-58d8-4046-831f-7d7ba681fbd9')\"\n",
              "            title=\"Convert this dataframe to an interactive table.\"\n",
              "            style=\"display:none;\">\n",
              "\n",
              "  <svg xmlns=\"http://www.w3.org/2000/svg\" height=\"24px\" viewBox=\"0 -960 960 960\">\n",
              "    <path d=\"M120-120v-720h720v720H120Zm60-500h600v-160H180v160Zm220 220h160v-160H400v160Zm0 220h160v-160H400v160ZM180-400h160v-160H180v160Zm440 0h160v-160H620v160ZM180-180h160v-160H180v160Zm440 0h160v-160H620v160Z\"/>\n",
              "  </svg>\n",
              "    </button>\n",
              "\n",
              "  <style>\n",
              "    .colab-df-container {\n",
              "      display:flex;\n",
              "      gap: 12px;\n",
              "    }\n",
              "\n",
              "    .colab-df-convert {\n",
              "      background-color: #E8F0FE;\n",
              "      border: none;\n",
              "      border-radius: 50%;\n",
              "      cursor: pointer;\n",
              "      display: none;\n",
              "      fill: #1967D2;\n",
              "      height: 32px;\n",
              "      padding: 0 0 0 0;\n",
              "      width: 32px;\n",
              "    }\n",
              "\n",
              "    .colab-df-convert:hover {\n",
              "      background-color: #E2EBFA;\n",
              "      box-shadow: 0px 1px 2px rgba(60, 64, 67, 0.3), 0px 1px 3px 1px rgba(60, 64, 67, 0.15);\n",
              "      fill: #174EA6;\n",
              "    }\n",
              "\n",
              "    .colab-df-buttons div {\n",
              "      margin-bottom: 4px;\n",
              "    }\n",
              "\n",
              "    [theme=dark] .colab-df-convert {\n",
              "      background-color: #3B4455;\n",
              "      fill: #D2E3FC;\n",
              "    }\n",
              "\n",
              "    [theme=dark] .colab-df-convert:hover {\n",
              "      background-color: #434B5C;\n",
              "      box-shadow: 0px 1px 3px 1px rgba(0, 0, 0, 0.15);\n",
              "      filter: drop-shadow(0px 1px 2px rgba(0, 0, 0, 0.3));\n",
              "      fill: #FFFFFF;\n",
              "    }\n",
              "  </style>\n",
              "\n",
              "    <script>\n",
              "      const buttonEl =\n",
              "        document.querySelector('#df-1cfdb2f0-58d8-4046-831f-7d7ba681fbd9 button.colab-df-convert');\n",
              "      buttonEl.style.display =\n",
              "        google.colab.kernel.accessAllowed ? 'block' : 'none';\n",
              "\n",
              "      async function convertToInteractive(key) {\n",
              "        const element = document.querySelector('#df-1cfdb2f0-58d8-4046-831f-7d7ba681fbd9');\n",
              "        const dataTable =\n",
              "          await google.colab.kernel.invokeFunction('convertToInteractive',\n",
              "                                                    [key], {});\n",
              "        if (!dataTable) return;\n",
              "\n",
              "        const docLinkHtml = 'Like what you see? Visit the ' +\n",
              "          '<a target=\"_blank\" href=https://colab.research.google.com/notebooks/data_table.ipynb>data table notebook</a>'\n",
              "          + ' to learn more about interactive tables.';\n",
              "        element.innerHTML = '';\n",
              "        dataTable['output_type'] = 'display_data';\n",
              "        await google.colab.output.renderOutput(dataTable, element);\n",
              "        const docLink = document.createElement('div');\n",
              "        docLink.innerHTML = docLinkHtml;\n",
              "        element.appendChild(docLink);\n",
              "      }\n",
              "    </script>\n",
              "  </div>\n",
              "\n",
              "\n",
              "<div id=\"df-cce73236-15c9-42a0-8fd6-ec045f04c8ee\">\n",
              "  <button class=\"colab-df-quickchart\" onclick=\"quickchart('df-cce73236-15c9-42a0-8fd6-ec045f04c8ee')\"\n",
              "            title=\"Suggest charts.\"\n",
              "            style=\"display:none;\">\n",
              "\n",
              "<svg xmlns=\"http://www.w3.org/2000/svg\" height=\"24px\"viewBox=\"0 0 24 24\"\n",
              "     width=\"24px\">\n",
              "    <g>\n",
              "        <path d=\"M19 3H5c-1.1 0-2 .9-2 2v14c0 1.1.9 2 2 2h14c1.1 0 2-.9 2-2V5c0-1.1-.9-2-2-2zM9 17H7v-7h2v7zm4 0h-2V7h2v10zm4 0h-2v-4h2v4z\"/>\n",
              "    </g>\n",
              "</svg>\n",
              "  </button>\n",
              "\n",
              "<style>\n",
              "  .colab-df-quickchart {\n",
              "    background-color: #E8F0FE;\n",
              "    border: none;\n",
              "    border-radius: 50%;\n",
              "    cursor: pointer;\n",
              "    display: none;\n",
              "    fill: #1967D2;\n",
              "    height: 32px;\n",
              "    padding: 0 0 0 0;\n",
              "    width: 32px;\n",
              "  }\n",
              "\n",
              "  .colab-df-quickchart:hover {\n",
              "    background-color: #E2EBFA;\n",
              "    box-shadow: 0px 1px 2px rgba(60, 64, 67, 0.3), 0px 1px 3px 1px rgba(60, 64, 67, 0.15);\n",
              "    fill: #174EA6;\n",
              "  }\n",
              "\n",
              "  [theme=dark] .colab-df-quickchart {\n",
              "    background-color: #3B4455;\n",
              "    fill: #D2E3FC;\n",
              "  }\n",
              "\n",
              "  [theme=dark] .colab-df-quickchart:hover {\n",
              "    background-color: #434B5C;\n",
              "    box-shadow: 0px 1px 3px 1px rgba(0, 0, 0, 0.15);\n",
              "    filter: drop-shadow(0px 1px 2px rgba(0, 0, 0, 0.3));\n",
              "    fill: #FFFFFF;\n",
              "  }\n",
              "</style>\n",
              "\n",
              "  <script>\n",
              "    async function quickchart(key) {\n",
              "      const charts = await google.colab.kernel.invokeFunction(\n",
              "          'suggestCharts', [key], {});\n",
              "    }\n",
              "    (() => {\n",
              "      let quickchartButtonEl =\n",
              "        document.querySelector('#df-cce73236-15c9-42a0-8fd6-ec045f04c8ee button');\n",
              "      quickchartButtonEl.style.display =\n",
              "        google.colab.kernel.accessAllowed ? 'block' : 'none';\n",
              "    })();\n",
              "  </script>\n",
              "</div>\n",
              "    </div>\n",
              "  </div>\n"
            ]
          },
          "metadata": {},
          "execution_count": 31
        }
      ]
    },
    {
      "cell_type": "code",
      "source": [
        "#using a Regex, create a year column based on Inspection Date data\n",
        "#in order to do a comparison across years in dataset\n",
        "rats2['YEAR'] = rats2['INSPECTION_DATE'].str.extract('(\\\\d{4})')"
      ],
      "metadata": {
        "colab": {
          "base_uri": "https://localhost:8080/"
        },
        "id": "fngSPPe4jE6T",
        "outputId": "565fb18f-ba23-4e1a-adc1-7cd05ef55560"
      },
      "execution_count": 33,
      "outputs": [
        {
          "output_type": "stream",
          "name": "stderr",
          "text": [
            "<ipython-input-33-e34391359ae4>:3: SettingWithCopyWarning: \n",
            "A value is trying to be set on a copy of a slice from a DataFrame.\n",
            "Try using .loc[row_indexer,col_indexer] = value instead\n",
            "\n",
            "See the caveats in the documentation: https://pandas.pydata.org/pandas-docs/stable/user_guide/indexing.html#returning-a-view-versus-a-copy\n",
            "  rats2['YEAR'] = rats2['INSPECTION_DATE'].str.extract('(\\\\d{4})')\n"
          ]
        }
      ]
    },
    {
      "cell_type": "code",
      "source": [
        "#confirm YEAR column populeted properly\n",
        "#groupby to with unique value to count number of inspections (where rats were found since this is now the only RESULT in rats2)\n",
        "NEWYEAR = rats2.groupby(['YEAR'])['JOB_TICKET_OR_WORK_ORDER_ID'].count()\n",
        "NEWYEAR"
      ],
      "metadata": {
        "colab": {
          "base_uri": "https://localhost:8080/"
        },
        "id": "v7cyFIduzt6G",
        "outputId": "328e369f-c5ac-4978-bac7-f62debd80d21"
      },
      "execution_count": 34,
      "outputs": [
        {
          "output_type": "execute_result",
          "data": {
            "text/plain": [
              "YEAR\n",
              "2001        2\n",
              "2002        2\n",
              "2003        1\n",
              "2009     3226\n",
              "2010    11892\n",
              "2011    11642\n",
              "2012    11288\n",
              "2013    11184\n",
              "2014    10841\n",
              "2015    11975\n",
              "2016    15901\n",
              "2017    21058\n",
              "2018    20659\n",
              "2019    22593\n",
              "2020    11096\n",
              "2021    19394\n",
              "2022    38776\n",
              "2023    25418\n",
              "Name: JOB_TICKET_OR_WORK_ORDER_ID, dtype: int64"
            ]
          },
          "metadata": {},
          "execution_count": 34
        }
      ]
    },
    {
      "cell_type": "code",
      "source": [
        "#Why did a nan value show up for year when I run  .unique().tolist() query but it doesn't show in the previous groupby function.\n",
        "NEWYEAR2 = rats2['YEAR'].unique().tolist()\n",
        "NEWYEAR2\n",
        "#I don't know.\n",
        "#In any case rats2['YEAR'] still needs to be cleaned up"
      ],
      "metadata": {
        "colab": {
          "base_uri": "https://localhost:8080/"
        },
        "id": "qqje7oPA3h5G",
        "outputId": "b74e7873-ace0-4f3b-eda9-9a802a4930d2"
      },
      "execution_count": 35,
      "outputs": [
        {
          "output_type": "execute_result",
          "data": {
            "text/plain": [
              "['2023',\n",
              " '2021',\n",
              " '2022',\n",
              " '2013',\n",
              " '2019',\n",
              " '2016',\n",
              " '2020',\n",
              " '2010',\n",
              " '2018',\n",
              " '2015',\n",
              " '2014',\n",
              " '2011',\n",
              " '2017',\n",
              " '2012',\n",
              " '2009',\n",
              " nan,\n",
              " '2003',\n",
              " '2001',\n",
              " '2002']"
            ]
          },
          "metadata": {},
          "execution_count": 35
        }
      ]
    },
    {
      "cell_type": "code",
      "source": [
        "#create rats3 df dropping all rows where the value of 'YEAR' is nan\n",
        "rats3 = rats2.dropna(subset=['YEAR'])"
      ],
      "metadata": {
        "id": "0GNa4k8RyvJG"
      },
      "execution_count": 36,
      "outputs": []
    },
    {
      "cell_type": "code",
      "source": [
        "#run .unique().tolist()to confirm nan rows were deleted\n",
        "NEWYEAR3 = rats3['YEAR'].unique().tolist()\n",
        "NEWYEAR3"
      ],
      "metadata": {
        "colab": {
          "base_uri": "https://localhost:8080/"
        },
        "id": "NRdWCWa_Exg1",
        "outputId": "7cc7949b-35ff-4d65-93a6-430f00912666"
      },
      "execution_count": 37,
      "outputs": [
        {
          "output_type": "execute_result",
          "data": {
            "text/plain": [
              "['2023',\n",
              " '2021',\n",
              " '2022',\n",
              " '2013',\n",
              " '2019',\n",
              " '2016',\n",
              " '2020',\n",
              " '2010',\n",
              " '2018',\n",
              " '2015',\n",
              " '2014',\n",
              " '2011',\n",
              " '2017',\n",
              " '2012',\n",
              " '2009',\n",
              " '2003',\n",
              " '2001',\n",
              " '2002']"
            ]
          },
          "metadata": {},
          "execution_count": 37
        }
      ]
    },
    {
      "cell_type": "code",
      "source": [
        "#let's look at the column headers for rats3\n",
        "list(rats3)"
      ],
      "metadata": {
        "colab": {
          "base_uri": "https://localhost:8080/"
        },
        "id": "Fs-ArRgp14K8",
        "outputId": "4e3abe8c-9ae1-44b0-e960-b6d4a2353b93"
      },
      "execution_count": 38,
      "outputs": [
        {
          "output_type": "execute_result",
          "data": {
            "text/plain": [
              "['INSPECTION_TYPE',\n",
              " 'JOB_TICKET_OR_WORK_ORDER_ID',\n",
              " 'JOB_ID',\n",
              " 'BORO_CODE',\n",
              " 'BLOCK',\n",
              " 'LOT',\n",
              " 'HOUSE_NUMBER',\n",
              " 'STREET_NAME',\n",
              " 'ZIP_CODE',\n",
              " 'BOROUGH',\n",
              " 'INSPECTION_DATE',\n",
              " 'RESULT',\n",
              " 'APPROVED_DATE',\n",
              " 'LOCATION',\n",
              " 'COMMUNITY BOARD',\n",
              " 'COUNCIL DISTRICT',\n",
              " 'CENSUS TRACT',\n",
              " 'BIN',\n",
              " 'NTA',\n",
              " 'YEAR']"
            ]
          },
          "metadata": {},
          "execution_count": 38
        }
      ]
    },
    {
      "cell_type": "markdown",
      "source": [
        "## **5. GRAPH THE RESULTS**"
      ],
      "metadata": {
        "id": "saKtdmVZa5PY"
      }
    },
    {
      "cell_type": "code",
      "source": [
        "#create a series of graphs based on the findings in the rats3 database. First import graphing ibraries and sub-libraries\n",
        "import matplotlib as mpl\n",
        "import matplotlib.pyplot as plt\n",
        "import seaborn as sns\n",
        "mpl.rcParams['font.family'] = 'monospace'\n",
        "import matplotlib.patheffects as PathEffects\n",
        "import matplotlib.style\n",
        "import matplotlib.patheffects as pe\n",
        "mpl.style.use('seaborn-v0_8-dark')\n",
        "color_map = {'Bronx': '#DD8452', 'Brooklyn': '#55A868', 'Manhattan': '#4C72B0', 'Queens': '#C44E52', 'Staten Island': '#8172B3'}\n",
        "%matplotlib inline"
      ],
      "metadata": {
        "id": "LcYhJC5txpCV"
      },
      "execution_count": 39,
      "outputs": []
    },
    {
      "cell_type": "code",
      "source": [
        "#rats3 needs further cleaning in order to limit the parameters of the graphs\n",
        "#drop years 2001 to 2011 and year 2023, and display the remaining years in chronoligical order\n",
        "rats4 = rats3[~rats3['YEAR'].isin(['2001', '2002','2003','2009','2010','2011','2023'])]\n",
        "unique_values = sorted(rats4['YEAR'].unique().tolist())\n",
        "print(unique_values)"
      ],
      "metadata": {
        "colab": {
          "base_uri": "https://localhost:8080/"
        },
        "id": "2qrCB4jJ6q5F",
        "outputId": "72a15d46-b5ee-4d47-d644-d9e2807d5baa"
      },
      "execution_count": 40,
      "outputs": [
        {
          "output_type": "stream",
          "name": "stdout",
          "text": [
            "['2012', '2013', '2014', '2015', '2016', '2017', '2018', '2019', '2020', '2021', '2022']\n"
          ]
        }
      ]
    },
    {
      "cell_type": "code",
      "source": [
        "#ooops. BOROUGH also needs some cleaning to get rid of the MISSING value\n",
        "BOROUGH = rats4.groupby(['BOROUGH'])['JOB_TICKET_OR_WORK_ORDER_ID'].count()\n",
        "BOROUGH"
      ],
      "metadata": {
        "colab": {
          "base_uri": "https://localhost:8080/"
        },
        "id": "6k1gdAD7-erl",
        "outputId": "ceb88427-e7ac-4ad2-a375-3a115f8805d5"
      },
      "execution_count": 41,
      "outputs": [
        {
          "output_type": "execute_result",
          "data": {
            "text/plain": [
              "BOROUGH\n",
              "Bronx            57811\n",
              "Brooklyn         63437\n",
              "MISSING              1\n",
              "Manhattan        59870\n",
              "Queens           12037\n",
              "Staten Island     1609\n",
              "Name: JOB_TICKET_OR_WORK_ORDER_ID, dtype: int64"
            ]
          },
          "metadata": {},
          "execution_count": 41
        }
      ]
    },
    {
      "cell_type": "code",
      "source": [
        "#delete the row with MISSING listed in BOROUGH\n",
        "rats5 = rats4[~rats4['BOROUGH'].isin(['MISSING'])]"
      ],
      "metadata": {
        "id": "AXiJMXsB9tWK"
      },
      "execution_count": 42,
      "outputs": []
    },
    {
      "cell_type": "code",
      "source": [
        "#check to make sure the deletion worked\n",
        "#It did\n",
        "BOROUGH = rats5.groupby(['BOROUGH'])['JOB_TICKET_OR_WORK_ORDER_ID'].count()\n",
        "BOROUGH"
      ],
      "metadata": {
        "colab": {
          "base_uri": "https://localhost:8080/"
        },
        "id": "v1gCg7Qe_BrV",
        "outputId": "3f852aee-d1d6-4bb6-d5f9-931645a30a46"
      },
      "execution_count": 43,
      "outputs": [
        {
          "output_type": "execute_result",
          "data": {
            "text/plain": [
              "BOROUGH\n",
              "Bronx            57811\n",
              "Brooklyn         63437\n",
              "Manhattan        59870\n",
              "Queens           12037\n",
              "Staten Island     1609\n",
              "Name: JOB_TICKET_OR_WORK_ORDER_ID, dtype: int64"
            ]
          },
          "metadata": {},
          "execution_count": 43
        }
      ]
    },
    {
      "cell_type": "code",
      "source": [
        "#Graph #1: Rank the five boroughs by rat activity and put the results in a new dataset\n",
        "ratspop = pd.DataFrame(rats5.groupby(['BOROUGH'])['JOB_TICKET_OR_WORK_ORDER_ID'].count().sort_values(ascending=False))"
      ],
      "metadata": {
        "id": "6KOQvTNGPC4T"
      },
      "execution_count": 44,
      "outputs": []
    },
    {
      "cell_type": "code",
      "source": [
        "#Create a bar graph based on ratspop\n",
        "ratspop = ratspop.reset_index()\n",
        "boroughs = ratspop['BOROUGH']\n",
        "sightings = ratspop['JOB_TICKET_OR_WORK_ORDER_ID']\n",
        "colors = ['#DD8452', '#55A868', '#4C72B0', '#C44E52', '#8172B3']\n",
        "fig, ax = plt.subplots()\n",
        "ax.bar(ratspop['BOROUGH'], ratspop['JOB_TICKET_OR_WORK_ORDER_ID'], width=0.9, label='Number of Rat Sightings', color=[color_map[b] for b in ratspop['BOROUGH']])\n",
        "plt.margins(y=0.1, x=0.1)\n",
        "for i in range(len(ratspop)):\n",
        "    plt.text(boroughs[i], sightings[i], sightings[i], ha='center', va='bottom', fontsize=14, fontweight='bold')\n",
        "ax.set_xlabel('Borough', fontsize=12, fontweight='bold')\n",
        "ax.set_ylabel('Number of Rat Sightings', fontsize=12, fontweight='bold')\n",
        "ax.set_title('Rodent Inspections by NYC Borough, 2012-2022', fontsize=14, fontweight='bold')\n",
        "ax.legend()\n",
        "plt.show()\n",
        "fig = plt.figure()"
      ],
      "metadata": {
        "colab": {
          "base_uri": "https://localhost:8080/",
          "height": 485
        },
        "id": "AWNQLtYnLSQc",
        "outputId": "9a65cbad-1c37-44d8-ac30-9f1f11f5a8e7"
      },
      "execution_count": 45,
      "outputs": [
        {
          "output_type": "display_data",
          "data": {
            "text/plain": [
              "<Figure size 640x480 with 1 Axes>"
            ],
            "image/png": "[encoded data removed]"
          },
          "metadata": {}
        },
        {
          "output_type": "display_data",
          "data": {
            "text/plain": [
              "<Figure size 640x480 with 0 Axes>"
            ]
          },
          "metadata": {}
        }
      ]
    },
    {
      "cell_type": "code",
      "source": [
        "#Graph #2 - Create a pie chart indicating the percentage of rat sigtings per borough\n",
        "BOROUGH = rats5.groupby(['BOROUGH'])['JOB_TICKET_OR_WORK_ORDER_ID'].count()\n",
        "BOROUGH_percentage = BOROUGH.div(BOROUGH.sum()).mul(100)\n",
        "BOROUGH"
      ],
      "metadata": {
        "colab": {
          "base_uri": "https://localhost:8080/"
        },
        "id": "KGyHj6lzURGJ",
        "outputId": "6ea9886d-d10c-48c8-a916-baa5f969d1c1"
      },
      "execution_count": 46,
      "outputs": [
        {
          "output_type": "execute_result",
          "data": {
            "text/plain": [
              "BOROUGH\n",
              "Bronx            57811\n",
              "Brooklyn         63437\n",
              "Manhattan        59870\n",
              "Queens           12037\n",
              "Staten Island     1609\n",
              "Name: JOB_TICKET_OR_WORK_ORDER_ID, dtype: int64"
            ]
          },
          "metadata": {},
          "execution_count": 46
        }
      ]
    },
    {
      "cell_type": "code",
      "source": [
        "#Now create a pie chart\n",
        "ratpercent = pd.DataFrame(BOROUGH_percentage)\n",
        "ratpercent = ratpercent.reset_index()\n",
        "fig, ax = plt.subplots(figsize=(8, 8))\n",
        "ax.pie(ratpercent['JOB_TICKET_OR_WORK_ORDER_ID'], labels=ratpercent['BOROUGH'], colors = ['#DD8452', '#55A868', '#4C72B0', '#C44E52', '#8172B3'], autopct='%1.1f%%', textprops={'fontsize': 14, 'fontweight': 'bold', 'color': 'black'})\n",
        "ax.set_title('Pctg. of Rodent Inspections by NYC Borough, 2012-2022', fontsize=16, fontweight='bold', loc='center')\n",
        "plt.show()"
      ],
      "metadata": {
        "id": "HEskNT84o4gL",
        "outputId": "40652ef5-3284-4e9a-d9c0-6c6aa4af40d8",
        "colab": {
          "base_uri": "https://localhost:8080/",
          "height": 677
        }
      },
      "execution_count": 47,
      "outputs": [
        {
          "output_type": "display_data",
          "data": {
            "text/plain": [
              "<Figure size 800x800 with 1 Axes>"
            ],
            "image/png": "[encoded data removed]"
          },
          "metadata": {}
        }
      ]
    },
    {
      "cell_type": "code",
      "source": [
        "#Problem #3 - create a line graph plotting the fluctuations in rat population by borough from 2012 - 2022\n",
        "s = rats5.groupby(['BOROUGH', 'YEAR'])['RESULT'].count()\n",
        "ratsgraph = s.unstack(level='BOROUGH')\n",
        "ratsgraph.plot.line(x='YEAR', y=['Bronx', 'Brooklyn', 'Manhattan', 'Queens', 'Staten Island'])"
      ],
      "metadata": {
        "colab": {
          "base_uri": "https://localhost:8080/",
          "height": 531
        },
        "id": "POUonIXz5aU4",
        "outputId": "ecd7d628-70d0-454c-ccb2-2d1c3c6809b8"
      },
      "execution_count": 48,
      "outputs": [
        {
          "output_type": "error",
          "ename": "KeyError",
          "evalue": "ignored",
          "traceback": [
            "\u001b[0;31m---------------------------------------------------------------------------\u001b[0m",
            "\u001b[0;31mKeyError\u001b[0m                                  Traceback (most recent call last)",
            "\u001b[0;32m/usr/local/lib/python3.10/dist-packages/pandas/core/indexes/base.py\u001b[0m in \u001b[0;36mget_loc\u001b[0;34m(self, key, method, tolerance)\u001b[0m\n\u001b[1;32m   3801\u001b[0m             \u001b[0;32mtry\u001b[0m\u001b[0;34m:\u001b[0m\u001b[0;34m\u001b[0m\u001b[0;34m\u001b[0m\u001b[0m\n\u001b[0;32m-> 3802\u001b[0;31m                 \u001b[0;32mreturn\u001b[0m \u001b[0mself\u001b[0m\u001b[0;34m.\u001b[0m\u001b[0m_engine\u001b[0m\u001b[0;34m.\u001b[0m\u001b[0mget_loc\u001b[0m\u001b[0;34m(\u001b[0m\u001b[0mcasted_key\u001b[0m\u001b[0;34m)\u001b[0m\u001b[0;34m\u001b[0m\u001b[0;34m\u001b[0m\u001b[0m\n\u001b[0m\u001b[1;32m   3803\u001b[0m             \u001b[0;32mexcept\u001b[0m \u001b[0mKeyError\u001b[0m \u001b[0;32mas\u001b[0m \u001b[0merr\u001b[0m\u001b[0;34m:\u001b[0m\u001b[0;34m\u001b[0m\u001b[0;34m\u001b[0m\u001b[0m\n",
            "\u001b[0;32m/usr/local/lib/python3.10/dist-packages/pandas/_libs/index.pyx\u001b[0m in \u001b[0;36mpandas._libs.index.IndexEngine.get_loc\u001b[0;34m()\u001b[0m\n",
            "\u001b[0;32m/usr/local/lib/python3.10/dist-packages/pandas/_libs/index.pyx\u001b[0m in \u001b[0;36mpandas._libs.index.IndexEngine.get_loc\u001b[0;34m()\u001b[0m\n",
            "\u001b[0;32mpandas/_libs/hashtable_class_helper.pxi\u001b[0m in \u001b[0;36mpandas._libs.hashtable.PyObjectHashTable.get_item\u001b[0;34m()\u001b[0m\n",
            "\u001b[0;32mpandas/_libs/hashtable_class_helper.pxi\u001b[0m in \u001b[0;36mpandas._libs.hashtable.PyObjectHashTable.get_item\u001b[0;34m()\u001b[0m\n",
            "\u001b[0;31mKeyError\u001b[0m: 'YEAR'",
            "\nThe above exception was the direct cause of the following exception:\n",
            "\u001b[0;31mKeyError\u001b[0m                                  Traceback (most recent call last)",
            "\u001b[0;32m<ipython-input-48-156637389846>\u001b[0m in \u001b[0;36m<cell line: 4>\u001b[0;34m()\u001b[0m\n\u001b[1;32m      2\u001b[0m \u001b[0ms\u001b[0m \u001b[0;34m=\u001b[0m \u001b[0mrats5\u001b[0m\u001b[0;34m.\u001b[0m\u001b[0mgroupby\u001b[0m\u001b[0;34m(\u001b[0m\u001b[0;34m[\u001b[0m\u001b[0;34m'BOROUGH'\u001b[0m\u001b[0;34m,\u001b[0m \u001b[0;34m'YEAR'\u001b[0m\u001b[0;34m]\u001b[0m\u001b[0;34m)\u001b[0m\u001b[0;34m[\u001b[0m\u001b[0;34m'RESULT'\u001b[0m\u001b[0;34m]\u001b[0m\u001b[0;34m.\u001b[0m\u001b[0mcount\u001b[0m\u001b[0;34m(\u001b[0m\u001b[0;34m)\u001b[0m\u001b[0;34m\u001b[0m\u001b[0;34m\u001b[0m\u001b[0m\n\u001b[1;32m      3\u001b[0m \u001b[0mratsgraph\u001b[0m \u001b[0;34m=\u001b[0m \u001b[0ms\u001b[0m\u001b[0;34m.\u001b[0m\u001b[0munstack\u001b[0m\u001b[0;34m(\u001b[0m\u001b[0mlevel\u001b[0m\u001b[0;34m=\u001b[0m\u001b[0;34m'BOROUGH'\u001b[0m\u001b[0;34m)\u001b[0m\u001b[0;34m\u001b[0m\u001b[0;34m\u001b[0m\u001b[0m\n\u001b[0;32m----> 4\u001b[0;31m \u001b[0mratsgraph\u001b[0m\u001b[0;34m.\u001b[0m\u001b[0mplot\u001b[0m\u001b[0;34m.\u001b[0m\u001b[0mline\u001b[0m\u001b[0;34m(\u001b[0m\u001b[0mx\u001b[0m\u001b[0;34m=\u001b[0m\u001b[0;34m'YEAR'\u001b[0m\u001b[0;34m,\u001b[0m \u001b[0my\u001b[0m\u001b[0;34m=\u001b[0m\u001b[0;34m[\u001b[0m\u001b[0;34m'Bronx'\u001b[0m\u001b[0;34m,\u001b[0m \u001b[0;34m'Brooklyn'\u001b[0m\u001b[0;34m,\u001b[0m \u001b[0;34m'Manhattan'\u001b[0m\u001b[0;34m,\u001b[0m \u001b[0;34m'Queens'\u001b[0m\u001b[0;34m,\u001b[0m \u001b[0;34m'Staten Island'\u001b[0m\u001b[0;34m]\u001b[0m\u001b[0;34m)\u001b[0m\u001b[0;34m\u001b[0m\u001b[0;34m\u001b[0m\u001b[0m\n\u001b[0m",
            "\u001b[0;32m/usr/local/lib/python3.10/dist-packages/pandas/plotting/_core.py\u001b[0m in \u001b[0;36mline\u001b[0;34m(self, x, y, **kwargs)\u001b[0m\n\u001b[1;32m   1067\u001b[0m         \u001b[0;32mas\u001b[0m \u001b[0mcoordinates\u001b[0m\u001b[0;34m.\u001b[0m\u001b[0;34m\u001b[0m\u001b[0;34m\u001b[0m\u001b[0m\n\u001b[1;32m   1068\u001b[0m         \"\"\"\n\u001b[0;32m-> 1069\u001b[0;31m         \u001b[0;32mreturn\u001b[0m \u001b[0mself\u001b[0m\u001b[0;34m(\u001b[0m\u001b[0mkind\u001b[0m\u001b[0;34m=\u001b[0m\u001b[0;34m\"line\"\u001b[0m\u001b[0;34m,\u001b[0m \u001b[0mx\u001b[0m\u001b[0;34m=\u001b[0m\u001b[0mx\u001b[0m\u001b[0;34m,\u001b[0m \u001b[0my\u001b[0m\u001b[0;34m=\u001b[0m\u001b[0my\u001b[0m\u001b[0;34m,\u001b[0m \u001b[0;34m**\u001b[0m\u001b[0mkwargs\u001b[0m\u001b[0;34m)\u001b[0m\u001b[0;34m\u001b[0m\u001b[0;34m\u001b[0m\u001b[0m\n\u001b[0m\u001b[1;32m   1070\u001b[0m \u001b[0;34m\u001b[0m\u001b[0m\n\u001b[1;32m   1071\u001b[0m     @Appender(\n",
            "\u001b[0;32m/usr/local/lib/python3.10/dist-packages/pandas/plotting/_core.py\u001b[0m in \u001b[0;36m__call__\u001b[0;34m(self, *args, **kwargs)\u001b[0m\n\u001b[1;32m    963\u001b[0m                 \u001b[0;32mif\u001b[0m \u001b[0mis_integer\u001b[0m\u001b[0;34m(\u001b[0m\u001b[0mx\u001b[0m\u001b[0;34m)\u001b[0m \u001b[0;32mand\u001b[0m \u001b[0;32mnot\u001b[0m \u001b[0mdata\u001b[0m\u001b[0;34m.\u001b[0m\u001b[0mcolumns\u001b[0m\u001b[0;34m.\u001b[0m\u001b[0mholds_integer\u001b[0m\u001b[0;34m(\u001b[0m\u001b[0;34m)\u001b[0m\u001b[0;34m:\u001b[0m\u001b[0;34m\u001b[0m\u001b[0;34m\u001b[0m\u001b[0m\n\u001b[1;32m    964\u001b[0m                     \u001b[0mx\u001b[0m \u001b[0;34m=\u001b[0m \u001b[0mdata_cols\u001b[0m\u001b[0;34m[\u001b[0m\u001b[0mx\u001b[0m\u001b[0;34m]\u001b[0m\u001b[0;34m\u001b[0m\u001b[0;34m\u001b[0m\u001b[0m\n\u001b[0;32m--> 965\u001b[0;31m                 \u001b[0;32melif\u001b[0m \u001b[0;32mnot\u001b[0m \u001b[0misinstance\u001b[0m\u001b[0;34m(\u001b[0m\u001b[0mdata\u001b[0m\u001b[0;34m[\u001b[0m\u001b[0mx\u001b[0m\u001b[0;34m]\u001b[0m\u001b[0;34m,\u001b[0m \u001b[0mABCSeries\u001b[0m\u001b[0;34m)\u001b[0m\u001b[0;34m:\u001b[0m\u001b[0;34m\u001b[0m\u001b[0;34m\u001b[0m\u001b[0m\n\u001b[0m\u001b[1;32m    966\u001b[0m                     \u001b[0;32mraise\u001b[0m \u001b[0mValueError\u001b[0m\u001b[0;34m(\u001b[0m\u001b[0;34m\"x must be a label or position\"\u001b[0m\u001b[0;34m)\u001b[0m\u001b[0;34m\u001b[0m\u001b[0;34m\u001b[0m\u001b[0m\n\u001b[1;32m    967\u001b[0m                 \u001b[0mdata\u001b[0m \u001b[0;34m=\u001b[0m \u001b[0mdata\u001b[0m\u001b[0;34m.\u001b[0m\u001b[0mset_index\u001b[0m\u001b[0;34m(\u001b[0m\u001b[0mx\u001b[0m\u001b[0;34m)\u001b[0m\u001b[0;34m\u001b[0m\u001b[0;34m\u001b[0m\u001b[0m\n",
            "\u001b[0;32m/usr/local/lib/python3.10/dist-packages/pandas/core/frame.py\u001b[0m in \u001b[0;36m__getitem__\u001b[0;34m(self, key)\u001b[0m\n\u001b[1;32m   3805\u001b[0m             \u001b[0;32mif\u001b[0m \u001b[0mself\u001b[0m\u001b[0;34m.\u001b[0m\u001b[0mcolumns\u001b[0m\u001b[0;34m.\u001b[0m\u001b[0mnlevels\u001b[0m \u001b[0;34m>\u001b[0m \u001b[0;36m1\u001b[0m\u001b[0;34m:\u001b[0m\u001b[0;34m\u001b[0m\u001b[0;34m\u001b[0m\u001b[0m\n\u001b[1;32m   3806\u001b[0m                 \u001b[0;32mreturn\u001b[0m \u001b[0mself\u001b[0m\u001b[0;34m.\u001b[0m\u001b[0m_getitem_multilevel\u001b[0m\u001b[0;34m(\u001b[0m\u001b[0mkey\u001b[0m\u001b[0;34m)\u001b[0m\u001b[0;34m\u001b[0m\u001b[0;34m\u001b[0m\u001b[0m\n\u001b[0;32m-> 3807\u001b[0;31m             \u001b[0mindexer\u001b[0m \u001b[0;34m=\u001b[0m \u001b[0mself\u001b[0m\u001b[0;34m.\u001b[0m\u001b[0mcolumns\u001b[0m\u001b[0;34m.\u001b[0m\u001b[0mget_loc\u001b[0m\u001b[0;34m(\u001b[0m\u001b[0mkey\u001b[0m\u001b[0;34m)\u001b[0m\u001b[0;34m\u001b[0m\u001b[0;34m\u001b[0m\u001b[0m\n\u001b[0m\u001b[1;32m   3808\u001b[0m             \u001b[0;32mif\u001b[0m \u001b[0mis_integer\u001b[0m\u001b[0;34m(\u001b[0m\u001b[0mindexer\u001b[0m\u001b[0;34m)\u001b[0m\u001b[0;34m:\u001b[0m\u001b[0;34m\u001b[0m\u001b[0;34m\u001b[0m\u001b[0m\n\u001b[1;32m   3809\u001b[0m                 \u001b[0mindexer\u001b[0m \u001b[0;34m=\u001b[0m \u001b[0;34m[\u001b[0m\u001b[0mindexer\u001b[0m\u001b[0;34m]\u001b[0m\u001b[0;34m\u001b[0m\u001b[0;34m\u001b[0m\u001b[0m\n",
            "\u001b[0;32m/usr/local/lib/python3.10/dist-packages/pandas/core/indexes/base.py\u001b[0m in \u001b[0;36mget_loc\u001b[0;34m(self, key, method, tolerance)\u001b[0m\n\u001b[1;32m   3802\u001b[0m                 \u001b[0;32mreturn\u001b[0m \u001b[0mself\u001b[0m\u001b[0;34m.\u001b[0m\u001b[0m_engine\u001b[0m\u001b[0;34m.\u001b[0m\u001b[0mget_loc\u001b[0m\u001b[0;34m(\u001b[0m\u001b[0mcasted_key\u001b[0m\u001b[0;34m)\u001b[0m\u001b[0;34m\u001b[0m\u001b[0;34m\u001b[0m\u001b[0m\n\u001b[1;32m   3803\u001b[0m             \u001b[0;32mexcept\u001b[0m \u001b[0mKeyError\u001b[0m \u001b[0;32mas\u001b[0m \u001b[0merr\u001b[0m\u001b[0;34m:\u001b[0m\u001b[0;34m\u001b[0m\u001b[0;34m\u001b[0m\u001b[0m\n\u001b[0;32m-> 3804\u001b[0;31m                 \u001b[0;32mraise\u001b[0m \u001b[0mKeyError\u001b[0m\u001b[0;34m(\u001b[0m\u001b[0mkey\u001b[0m\u001b[0;34m)\u001b[0m \u001b[0;32mfrom\u001b[0m \u001b[0merr\u001b[0m\u001b[0;34m\u001b[0m\u001b[0;34m\u001b[0m\u001b[0m\n\u001b[0m\u001b[1;32m   3805\u001b[0m             \u001b[0;32mexcept\u001b[0m \u001b[0mTypeError\u001b[0m\u001b[0;34m:\u001b[0m\u001b[0;34m\u001b[0m\u001b[0;34m\u001b[0m\u001b[0m\n\u001b[1;32m   3806\u001b[0m                 \u001b[0;31m# If we have a listlike key, _check_indexing_error will raise\u001b[0m\u001b[0;34m\u001b[0m\u001b[0;34m\u001b[0m\u001b[0m\n",
            "\u001b[0;31mKeyError\u001b[0m: 'YEAR'"
          ]
        }
      ]
    },
    {
      "cell_type": "code",
      "source": [
        "#Why is the above code not working? First let's look at the first few rows of ratsgraph\n",
        "ratsgraph.head()"
      ],
      "metadata": {
        "colab": {
          "base_uri": "https://localhost:8080/",
          "height": 237
        },
        "id": "VYNnc6q43wWs",
        "outputId": "092d3504-6298-4ee7-e6f0-44f95bbd2eef"
      },
      "execution_count": 49,
      "outputs": [
        {
          "output_type": "execute_result",
          "data": {
            "text/plain": [
              "BOROUGH  Bronx  Brooklyn  Manhattan  Queens  Staten Island\n",
              "YEAR                                                      \n",
              "2012      4281      2648       3612     597            150\n",
              "2013      4833      2027       3488     716            120\n",
              "2014      4279      2551       3250     605            156\n",
              "2015      4911      2730       3695     537            102\n",
              "2016      5574      4066       4978    1098            185"
            ],
            "text/html": [
              "\n",
              "  <div id=\"df-b31df7d4-099f-4735-bd4f-fb5a28f8377f\" class=\"colab-df-container\">\n",
              "    <div>\n",
              "<style scoped>\n",
              "    .dataframe tbody tr th:only-of-type {\n",
              "        vertical-align: middle;\n",
              "    }\n",
              "\n",
              "    .dataframe tbody tr th {\n",
              "        vertical-align: top;\n",
              "    }\n",
              "\n",
              "    .dataframe thead th {\n",
              "        text-align: right;\n",
              "    }\n",
              "</style>\n",
              "<table border=\"1\" class=\"dataframe\">\n",
              "  <thead>\n",
              "    <tr style=\"text-align: right;\">\n",
              "      <th>BOROUGH</th>\n",
              "      <th>Bronx</th>\n",
              "      <th>Brooklyn</th>\n",
              "      <th>Manhattan</th>\n",
              "      <th>Queens</th>\n",
              "      <th>Staten Island</th>\n",
              "    </tr>\n",
              "    <tr>\n",
              "      <th>YEAR</th>\n",
              "      <th></th>\n",
              "      <th></th>\n",
              "      <th></th>\n",
              "      <th></th>\n",
              "      <th></th>\n",
              "    </tr>\n",
              "  </thead>\n",
              "  <tbody>\n",
              "    <tr>\n",
              "      <th>2012</th>\n",
              "      <td>4281</td>\n",
              "      <td>2648</td>\n",
              "      <td>3612</td>\n",
              "      <td>597</td>\n",
              "      <td>150</td>\n",
              "    </tr>\n",
              "    <tr>\n",
              "      <th>2013</th>\n",
              "      <td>4833</td>\n",
              "      <td>2027</td>\n",
              "      <td>3488</td>\n",
              "      <td>716</td>\n",
              "      <td>120</td>\n",
              "    </tr>\n",
              "    <tr>\n",
              "      <th>2014</th>\n",
              "      <td>4279</td>\n",
              "      <td>2551</td>\n",
              "      <td>3250</td>\n",
              "      <td>605</td>\n",
              "      <td>156</td>\n",
              "    </tr>\n",
              "    <tr>\n",
              "      <th>2015</th>\n",
              "      <td>4911</td>\n",
              "      <td>2730</td>\n",
              "      <td>3695</td>\n",
              "      <td>537</td>\n",
              "      <td>102</td>\n",
              "    </tr>\n",
              "    <tr>\n",
              "      <th>2016</th>\n",
              "      <td>5574</td>\n",
              "      <td>4066</td>\n",
              "      <td>4978</td>\n",
              "      <td>1098</td>\n",
              "      <td>185</td>\n",
              "    </tr>\n",
              "  </tbody>\n",
              "</table>\n",
              "</div>\n",
              "    <div class=\"colab-df-buttons\">\n",
              "\n",
              "  <div class=\"colab-df-container\">\n",
              "    <button class=\"colab-df-convert\" onclick=\"convertToInteractive('df-b31df7d4-099f-4735-bd4f-fb5a28f8377f')\"\n",
              "            title=\"Convert this dataframe to an interactive table.\"\n",
              "            style=\"display:none;\">\n",
              "\n",
              "  <svg xmlns=\"http://www.w3.org/2000/svg\" height=\"24px\" viewBox=\"0 -960 960 960\">\n",
              "    <path d=\"M120-120v-720h720v720H120Zm60-500h600v-160H180v160Zm220 220h160v-160H400v160Zm0 220h160v-160H400v160ZM180-400h160v-160H180v160Zm440 0h160v-160H620v160ZM180-180h160v-160H180v160Zm440 0h160v-160H620v160Z\"/>\n",
              "  </svg>\n",
              "    </button>\n",
              "\n",
              "  <style>\n",
              "    .colab-df-container {\n",
              "      display:flex;\n",
              "      gap: 12px;\n",
              "    }\n",
              "\n",
              "    .colab-df-convert {\n",
              "      background-color: #E8F0FE;\n",
              "      border: none;\n",
              "      border-radius: 50%;\n",
              "      cursor: pointer;\n",
              "      display: none;\n",
              "      fill: #1967D2;\n",
              "      height: 32px;\n",
              "      padding: 0 0 0 0;\n",
              "      width: 32px;\n",
              "    }\n",
              "\n",
              "    .colab-df-convert:hover {\n",
              "      background-color: #E2EBFA;\n",
              "      box-shadow: 0px 1px 2px rgba(60, 64, 67, 0.3), 0px 1px 3px 1px rgba(60, 64, 67, 0.15);\n",
              "      fill: #174EA6;\n",
              "    }\n",
              "\n",
              "    .colab-df-buttons div {\n",
              "      margin-bottom: 4px;\n",
              "    }\n",
              "\n",
              "    [theme=dark] .colab-df-convert {\n",
              "      background-color: #3B4455;\n",
              "      fill: #D2E3FC;\n",
              "    }\n",
              "\n",
              "    [theme=dark] .colab-df-convert:hover {\n",
              "      background-color: #434B5C;\n",
              "      box-shadow: 0px 1px 3px 1px rgba(0, 0, 0, 0.15);\n",
              "      filter: drop-shadow(0px 1px 2px rgba(0, 0, 0, 0.3));\n",
              "      fill: #FFFFFF;\n",
              "    }\n",
              "  </style>\n",
              "\n",
              "    <script>\n",
              "      const buttonEl =\n",
              "        document.querySelector('#df-b31df7d4-099f-4735-bd4f-fb5a28f8377f button.colab-df-convert');\n",
              "      buttonEl.style.display =\n",
              "        google.colab.kernel.accessAllowed ? 'block' : 'none';\n",
              "\n",
              "      async function convertToInteractive(key) {\n",
              "        const element = document.querySelector('#df-b31df7d4-099f-4735-bd4f-fb5a28f8377f');\n",
              "        const dataTable =\n",
              "          await google.colab.kernel.invokeFunction('convertToInteractive',\n",
              "                                                    [key], {});\n",
              "        if (!dataTable) return;\n",
              "\n",
              "        const docLinkHtml = 'Like what you see? Visit the ' +\n",
              "          '<a target=\"_blank\" href=https://colab.research.google.com/notebooks/data_table.ipynb>data table notebook</a>'\n",
              "          + ' to learn more about interactive tables.';\n",
              "        element.innerHTML = '';\n",
              "        dataTable['output_type'] = 'display_data';\n",
              "        await google.colab.output.renderOutput(dataTable, element);\n",
              "        const docLink = document.createElement('div');\n",
              "        docLink.innerHTML = docLinkHtml;\n",
              "        element.appendChild(docLink);\n",
              "      }\n",
              "    </script>\n",
              "  </div>\n",
              "\n",
              "\n",
              "<div id=\"df-0ef8a9aa-81a4-404f-8d0c-cd62f8feb77b\">\n",
              "  <button class=\"colab-df-quickchart\" onclick=\"quickchart('df-0ef8a9aa-81a4-404f-8d0c-cd62f8feb77b')\"\n",
              "            title=\"Suggest charts.\"\n",
              "            style=\"display:none;\">\n",
              "\n",
              "<svg xmlns=\"http://www.w3.org/2000/svg\" height=\"24px\"viewBox=\"0 0 24 24\"\n",
              "     width=\"24px\">\n",
              "    <g>\n",
              "        <path d=\"M19 3H5c-1.1 0-2 .9-2 2v14c0 1.1.9 2 2 2h14c1.1 0 2-.9 2-2V5c0-1.1-.9-2-2-2zM9 17H7v-7h2v7zm4 0h-2V7h2v10zm4 0h-2v-4h2v4z\"/>\n",
              "    </g>\n",
              "</svg>\n",
              "  </button>\n",
              "\n",
              "<style>\n",
              "  .colab-df-quickchart {\n",
              "    background-color: #E8F0FE;\n",
              "    border: none;\n",
              "    border-radius: 50%;\n",
              "    cursor: pointer;\n",
              "    display: none;\n",
              "    fill: #1967D2;\n",
              "    height: 32px;\n",
              "    padding: 0 0 0 0;\n",
              "    width: 32px;\n",
              "  }\n",
              "\n",
              "  .colab-df-quickchart:hover {\n",
              "    background-color: #E2EBFA;\n",
              "    box-shadow: 0px 1px 2px rgba(60, 64, 67, 0.3), 0px 1px 3px 1px rgba(60, 64, 67, 0.15);\n",
              "    fill: #174EA6;\n",
              "  }\n",
              "\n",
              "  [theme=dark] .colab-df-quickchart {\n",
              "    background-color: #3B4455;\n",
              "    fill: #D2E3FC;\n",
              "  }\n",
              "\n",
              "  [theme=dark] .colab-df-quickchart:hover {\n",
              "    background-color: #434B5C;\n",
              "    box-shadow: 0px 1px 3px 1px rgba(0, 0, 0, 0.15);\n",
              "    filter: drop-shadow(0px 1px 2px rgba(0, 0, 0, 0.3));\n",
              "    fill: #FFFFFF;\n",
              "  }\n",
              "</style>\n",
              "\n",
              "  <script>\n",
              "    async function quickchart(key) {\n",
              "      const charts = await google.colab.kernel.invokeFunction(\n",
              "          'suggestCharts', [key], {});\n",
              "    }\n",
              "    (() => {\n",
              "      let quickchartButtonEl =\n",
              "        document.querySelector('#df-0ef8a9aa-81a4-404f-8d0c-cd62f8feb77b button');\n",
              "      quickchartButtonEl.style.display =\n",
              "        google.colab.kernel.accessAllowed ? 'block' : 'none';\n",
              "    })();\n",
              "  </script>\n",
              "</div>\n",
              "    </div>\n",
              "  </div>\n"
            ]
          },
          "metadata": {},
          "execution_count": 49
        }
      ]
    },
    {
      "cell_type": "code",
      "source": [
        "#Now let's look at the columns\n",
        "ratsgraph.columns"
      ],
      "metadata": {
        "colab": {
          "base_uri": "https://localhost:8080/"
        },
        "id": "gCgNeajRRrph",
        "outputId": "f391567d-5358-416c-f23f-fd5c9a112041"
      },
      "execution_count": 50,
      "outputs": [
        {
          "output_type": "execute_result",
          "data": {
            "text/plain": [
              "Index(['Bronx', 'Brooklyn', 'Manhattan', 'Queens', 'Staten Island'], dtype='object', name='BOROUGH')"
            ]
          },
          "metadata": {},
          "execution_count": 50
        }
      ]
    },
    {
      "cell_type": "code",
      "source": [
        "#Create a new column called \"YEAR\" mirroring the index in order to be able to plot the graph\n",
        "ratsgraph = ratsgraph.assign(YEAR=ratsgraph.index)"
      ],
      "metadata": {
        "id": "iq3Y8LLcT2kQ"
      },
      "execution_count": 51,
      "outputs": []
    },
    {
      "cell_type": "code",
      "source": [
        "#check the new ratsgraph columns\n",
        "ratsgraph.columns"
      ],
      "metadata": {
        "colab": {
          "base_uri": "https://localhost:8080/"
        },
        "id": "HkGpDkYMUS1f",
        "outputId": "b9fb3575-e6a5-432b-8755-53ce2684e3f9"
      },
      "execution_count": 52,
      "outputs": [
        {
          "output_type": "execute_result",
          "data": {
            "text/plain": [
              "Index(['Bronx', 'Brooklyn', 'Manhattan', 'Queens', 'Staten Island', 'YEAR'], dtype='object', name='BOROUGH')"
            ]
          },
          "metadata": {},
          "execution_count": 52
        }
      ]
    },
    {
      "cell_type": "code",
      "source": [
        "ax = ratsgraph.plot(x='YEAR', y=['Bronx', 'Brooklyn', 'Manhattan', 'Queens', 'Staten Island'], color = ['#DD8452', '#55A868', '#4C72B0', '#C44E52', '#8172B3'],zorder=0.1)\n",
        "ax.grid(True, color='darkgrey', linestyle='solid', linewidth=0.25, zorder=0.2)\n",
        "plt.margins(y=0.1, x=0.1)\n",
        "plt.xlabel('Year', fontsize=14, color='black')\n",
        "plt.ylabel('Rat Population', fontsize=14, color='black')\n",
        "plt.legend(fontsize=13, facecolor='black', loc='upper left', bbox_to_anchor=(0, 1))\n",
        "plt.title('Rat Population by NYC Borough, 2012-2022', fontsize=16, fontweight='bold')\n",
        "plt.show()"
      ],
      "metadata": {
        "colab": {
          "base_uri": "https://localhost:8080/",
          "height": 472
        },
        "id": "c7QoUCOg8xzP",
        "outputId": "b56f967e-909f-4a68-b390-ae8a41a5949d"
      },
      "execution_count": 53,
      "outputs": [
        {
          "output_type": "display_data",
          "data": {
            "text/plain": [
              "<Figure size 640x480 with 1 Axes>"
            ],
            "image/png": "[encoded data removed]"
          },
          "metadata": {}
        }
      ]
    },
    {
      "cell_type": "markdown",
      "source": [
        "## **6. LIMITING THE DATA TO THE TIME PERIOD AROUND NYC'S COVID SHUTDOWN**"
      ],
      "metadata": {
        "id": "k6r-0ZevdJvk"
      }
    },
    {
      "cell_type": "markdown",
      "source": [
        "### **The 2012-2022 line graph shows a significant change in the rat population around the time of NYC's Covid shutdown (March 2020)**"
      ],
      "metadata": {
        "id": "GkrNwPBpd6Dt"
      }
    },
    {
      "cell_type": "markdown",
      "source": [
        "### **Limiting the data to the time period around the shutdown will clarify the numbers**"
      ],
      "metadata": {
        "id": "-RLeaLcpen7Z"
      }
    },
    {
      "cell_type": "code",
      "source": [
        "#rats5 needs further cleaning in order to limit the parameters of the graphs\n",
        "#drop years 2001 to 2017 and year 2023, and display the remaining years in chronoligical order\n",
        "rats6 = rats5[~rats5['YEAR'].isin(['2012','2013','2014','2015','2016','2017'])]\n",
        "unique_values = sorted(rats6['YEAR'].unique().tolist())\n",
        "print(unique_values)"
      ],
      "metadata": {
        "colab": {
          "base_uri": "https://localhost:8080/"
        },
        "id": "LRnc-Oj3F-IE",
        "outputId": "34f5b047-dfaa-4c63-fb01-145dca6a375c"
      },
      "execution_count": 54,
      "outputs": [
        {
          "output_type": "stream",
          "name": "stdout",
          "text": [
            "['2018', '2019', '2020', '2021', '2022']\n"
          ]
        }
      ]
    },
    {
      "cell_type": "code",
      "source": [
        "#Problem #3 - create a line graph plotting the fluctuations in rat population by borough from 2012 - 2022df = pd.DataFrame({ 'Bronx': [2217, 4430, 9815], 'Brooklyn': [4335, 7043, 14376], 'Manhattan': [3733, 6316, 11934], 'Queens': [713, 1462, 2479], 'Staten Island': [98, 143, 171] }, index=[2020, 2021, 2022])"
      ],
      "metadata": {
        "id": "a8OT0HUim_4G"
      },
      "execution_count": 65,
      "outputs": []
    },
    {
      "cell_type": "code",
      "source": [
        "#Problem #3 - create a line graph plotting the fluctuations in rat population by borough from 2012 - 2022\n",
        "s = rats6.groupby(['BOROUGH', 'YEAR'])['RESULT'].count()\n",
        "short_ratsgraph = s.unstack(level='BOROUGH')\n",
        "short_ratsgraph.plot.line(x='YEAR', y=['Bronx', 'Brooklyn', 'Manhattan', 'Queens', 'Staten Island'])"
      ],
      "metadata": {
        "colab": {
          "base_uri": "https://localhost:8080/",
          "height": 531
        },
        "id": "nZInlxPiTxsn",
        "outputId": "cd954f28-4cce-43f7-df3f-bed39952e3d8"
      },
      "execution_count": 68,
      "outputs": [
        {
          "output_type": "error",
          "ename": "KeyError",
          "evalue": "ignored",
          "traceback": [
            "\u001b[0;31m---------------------------------------------------------------------------\u001b[0m",
            "\u001b[0;31mKeyError\u001b[0m                                  Traceback (most recent call last)",
            "\u001b[0;32m/usr/local/lib/python3.10/dist-packages/pandas/core/indexes/base.py\u001b[0m in \u001b[0;36mget_loc\u001b[0;34m(self, key, method, tolerance)\u001b[0m\n\u001b[1;32m   3801\u001b[0m             \u001b[0;32mtry\u001b[0m\u001b[0;34m:\u001b[0m\u001b[0;34m\u001b[0m\u001b[0;34m\u001b[0m\u001b[0m\n\u001b[0;32m-> 3802\u001b[0;31m                 \u001b[0;32mreturn\u001b[0m \u001b[0mself\u001b[0m\u001b[0;34m.\u001b[0m\u001b[0m_engine\u001b[0m\u001b[0;34m.\u001b[0m\u001b[0mget_loc\u001b[0m\u001b[0;34m(\u001b[0m\u001b[0mcasted_key\u001b[0m\u001b[0;34m)\u001b[0m\u001b[0;34m\u001b[0m\u001b[0;34m\u001b[0m\u001b[0m\n\u001b[0m\u001b[1;32m   3803\u001b[0m             \u001b[0;32mexcept\u001b[0m \u001b[0mKeyError\u001b[0m \u001b[0;32mas\u001b[0m \u001b[0merr\u001b[0m\u001b[0;34m:\u001b[0m\u001b[0;34m\u001b[0m\u001b[0;34m\u001b[0m\u001b[0m\n",
            "\u001b[0;32m/usr/local/lib/python3.10/dist-packages/pandas/_libs/index.pyx\u001b[0m in \u001b[0;36mpandas._libs.index.IndexEngine.get_loc\u001b[0;34m()\u001b[0m\n",
            "\u001b[0;32m/usr/local/lib/python3.10/dist-packages/pandas/_libs/index.pyx\u001b[0m in \u001b[0;36mpandas._libs.index.IndexEngine.get_loc\u001b[0;34m()\u001b[0m\n",
            "\u001b[0;32mpandas/_libs/hashtable_class_helper.pxi\u001b[0m in \u001b[0;36mpandas._libs.hashtable.PyObjectHashTable.get_item\u001b[0;34m()\u001b[0m\n",
            "\u001b[0;32mpandas/_libs/hashtable_class_helper.pxi\u001b[0m in \u001b[0;36mpandas._libs.hashtable.PyObjectHashTable.get_item\u001b[0;34m()\u001b[0m\n",
            "\u001b[0;31mKeyError\u001b[0m: 'YEAR'",
            "\nThe above exception was the direct cause of the following exception:\n",
            "\u001b[0;31mKeyError\u001b[0m                                  Traceback (most recent call last)",
            "\u001b[0;32m<ipython-input-68-0fc65a542508>\u001b[0m in \u001b[0;36m<cell line: 4>\u001b[0;34m()\u001b[0m\n\u001b[1;32m      2\u001b[0m \u001b[0ms\u001b[0m \u001b[0;34m=\u001b[0m \u001b[0mrats6\u001b[0m\u001b[0;34m.\u001b[0m\u001b[0mgroupby\u001b[0m\u001b[0;34m(\u001b[0m\u001b[0;34m[\u001b[0m\u001b[0;34m'BOROUGH'\u001b[0m\u001b[0;34m,\u001b[0m \u001b[0;34m'YEAR'\u001b[0m\u001b[0;34m]\u001b[0m\u001b[0;34m)\u001b[0m\u001b[0;34m[\u001b[0m\u001b[0;34m'RESULT'\u001b[0m\u001b[0;34m]\u001b[0m\u001b[0;34m.\u001b[0m\u001b[0mcount\u001b[0m\u001b[0;34m(\u001b[0m\u001b[0;34m)\u001b[0m\u001b[0;34m\u001b[0m\u001b[0;34m\u001b[0m\u001b[0m\n\u001b[1;32m      3\u001b[0m \u001b[0mshort_ratsgraph\u001b[0m \u001b[0;34m=\u001b[0m \u001b[0ms\u001b[0m\u001b[0;34m.\u001b[0m\u001b[0munstack\u001b[0m\u001b[0;34m(\u001b[0m\u001b[0mlevel\u001b[0m\u001b[0;34m=\u001b[0m\u001b[0;34m'BOROUGH'\u001b[0m\u001b[0;34m)\u001b[0m\u001b[0;34m\u001b[0m\u001b[0;34m\u001b[0m\u001b[0m\n\u001b[0;32m----> 4\u001b[0;31m \u001b[0mshort_ratsgraph\u001b[0m\u001b[0;34m.\u001b[0m\u001b[0mplot\u001b[0m\u001b[0;34m.\u001b[0m\u001b[0mline\u001b[0m\u001b[0;34m(\u001b[0m\u001b[0mx\u001b[0m\u001b[0;34m=\u001b[0m\u001b[0;34m'YEAR'\u001b[0m\u001b[0;34m,\u001b[0m \u001b[0my\u001b[0m\u001b[0;34m=\u001b[0m\u001b[0;34m[\u001b[0m\u001b[0;34m'Bronx'\u001b[0m\u001b[0;34m,\u001b[0m \u001b[0;34m'Brooklyn'\u001b[0m\u001b[0;34m,\u001b[0m \u001b[0;34m'Manhattan'\u001b[0m\u001b[0;34m,\u001b[0m \u001b[0;34m'Queens'\u001b[0m\u001b[0;34m,\u001b[0m \u001b[0;34m'Staten Island'\u001b[0m\u001b[0;34m]\u001b[0m\u001b[0;34m)\u001b[0m\u001b[0;34m\u001b[0m\u001b[0;34m\u001b[0m\u001b[0m\n\u001b[0m",
            "\u001b[0;32m/usr/local/lib/python3.10/dist-packages/pandas/plotting/_core.py\u001b[0m in \u001b[0;36mline\u001b[0;34m(self, x, y, **kwargs)\u001b[0m\n\u001b[1;32m   1067\u001b[0m         \u001b[0;32mas\u001b[0m \u001b[0mcoordinates\u001b[0m\u001b[0;34m.\u001b[0m\u001b[0;34m\u001b[0m\u001b[0;34m\u001b[0m\u001b[0m\n\u001b[1;32m   1068\u001b[0m         \"\"\"\n\u001b[0;32m-> 1069\u001b[0;31m         \u001b[0;32mreturn\u001b[0m \u001b[0mself\u001b[0m\u001b[0;34m(\u001b[0m\u001b[0mkind\u001b[0m\u001b[0;34m=\u001b[0m\u001b[0;34m\"line\"\u001b[0m\u001b[0;34m,\u001b[0m \u001b[0mx\u001b[0m\u001b[0;34m=\u001b[0m\u001b[0mx\u001b[0m\u001b[0;34m,\u001b[0m \u001b[0my\u001b[0m\u001b[0;34m=\u001b[0m\u001b[0my\u001b[0m\u001b[0;34m,\u001b[0m \u001b[0;34m**\u001b[0m\u001b[0mkwargs\u001b[0m\u001b[0;34m)\u001b[0m\u001b[0;34m\u001b[0m\u001b[0;34m\u001b[0m\u001b[0m\n\u001b[0m\u001b[1;32m   1070\u001b[0m \u001b[0;34m\u001b[0m\u001b[0m\n\u001b[1;32m   1071\u001b[0m     @Appender(\n",
            "\u001b[0;32m/usr/local/lib/python3.10/dist-packages/pandas/plotting/_core.py\u001b[0m in \u001b[0;36m__call__\u001b[0;34m(self, *args, **kwargs)\u001b[0m\n\u001b[1;32m    963\u001b[0m                 \u001b[0;32mif\u001b[0m \u001b[0mis_integer\u001b[0m\u001b[0;34m(\u001b[0m\u001b[0mx\u001b[0m\u001b[0;34m)\u001b[0m \u001b[0;32mand\u001b[0m \u001b[0;32mnot\u001b[0m \u001b[0mdata\u001b[0m\u001b[0;34m.\u001b[0m\u001b[0mcolumns\u001b[0m\u001b[0;34m.\u001b[0m\u001b[0mholds_integer\u001b[0m\u001b[0;34m(\u001b[0m\u001b[0;34m)\u001b[0m\u001b[0;34m:\u001b[0m\u001b[0;34m\u001b[0m\u001b[0;34m\u001b[0m\u001b[0m\n\u001b[1;32m    964\u001b[0m                     \u001b[0mx\u001b[0m \u001b[0;34m=\u001b[0m \u001b[0mdata_cols\u001b[0m\u001b[0;34m[\u001b[0m\u001b[0mx\u001b[0m\u001b[0;34m]\u001b[0m\u001b[0;34m\u001b[0m\u001b[0;34m\u001b[0m\u001b[0m\n\u001b[0;32m--> 965\u001b[0;31m                 \u001b[0;32melif\u001b[0m \u001b[0;32mnot\u001b[0m \u001b[0misinstance\u001b[0m\u001b[0;34m(\u001b[0m\u001b[0mdata\u001b[0m\u001b[0;34m[\u001b[0m\u001b[0mx\u001b[0m\u001b[0;34m]\u001b[0m\u001b[0;34m,\u001b[0m \u001b[0mABCSeries\u001b[0m\u001b[0;34m)\u001b[0m\u001b[0;34m:\u001b[0m\u001b[0;34m\u001b[0m\u001b[0;34m\u001b[0m\u001b[0m\n\u001b[0m\u001b[1;32m    966\u001b[0m                     \u001b[0;32mraise\u001b[0m \u001b[0mValueError\u001b[0m\u001b[0;34m(\u001b[0m\u001b[0;34m\"x must be a label or position\"\u001b[0m\u001b[0;34m)\u001b[0m\u001b[0;34m\u001b[0m\u001b[0;34m\u001b[0m\u001b[0m\n\u001b[1;32m    967\u001b[0m                 \u001b[0mdata\u001b[0m \u001b[0;34m=\u001b[0m \u001b[0mdata\u001b[0m\u001b[0;34m.\u001b[0m\u001b[0mset_index\u001b[0m\u001b[0;34m(\u001b[0m\u001b[0mx\u001b[0m\u001b[0;34m)\u001b[0m\u001b[0;34m\u001b[0m\u001b[0;34m\u001b[0m\u001b[0m\n",
            "\u001b[0;32m/usr/local/lib/python3.10/dist-packages/pandas/core/frame.py\u001b[0m in \u001b[0;36m__getitem__\u001b[0;34m(self, key)\u001b[0m\n\u001b[1;32m   3805\u001b[0m             \u001b[0;32mif\u001b[0m \u001b[0mself\u001b[0m\u001b[0;34m.\u001b[0m\u001b[0mcolumns\u001b[0m\u001b[0;34m.\u001b[0m\u001b[0mnlevels\u001b[0m \u001b[0;34m>\u001b[0m \u001b[0;36m1\u001b[0m\u001b[0;34m:\u001b[0m\u001b[0;34m\u001b[0m\u001b[0;34m\u001b[0m\u001b[0m\n\u001b[1;32m   3806\u001b[0m                 \u001b[0;32mreturn\u001b[0m \u001b[0mself\u001b[0m\u001b[0;34m.\u001b[0m\u001b[0m_getitem_multilevel\u001b[0m\u001b[0;34m(\u001b[0m\u001b[0mkey\u001b[0m\u001b[0;34m)\u001b[0m\u001b[0;34m\u001b[0m\u001b[0;34m\u001b[0m\u001b[0m\n\u001b[0;32m-> 3807\u001b[0;31m             \u001b[0mindexer\u001b[0m \u001b[0;34m=\u001b[0m \u001b[0mself\u001b[0m\u001b[0;34m.\u001b[0m\u001b[0mcolumns\u001b[0m\u001b[0;34m.\u001b[0m\u001b[0mget_loc\u001b[0m\u001b[0;34m(\u001b[0m\u001b[0mkey\u001b[0m\u001b[0;34m)\u001b[0m\u001b[0;34m\u001b[0m\u001b[0;34m\u001b[0m\u001b[0m\n\u001b[0m\u001b[1;32m   3808\u001b[0m             \u001b[0;32mif\u001b[0m \u001b[0mis_integer\u001b[0m\u001b[0;34m(\u001b[0m\u001b[0mindexer\u001b[0m\u001b[0;34m)\u001b[0m\u001b[0;34m:\u001b[0m\u001b[0;34m\u001b[0m\u001b[0;34m\u001b[0m\u001b[0m\n\u001b[1;32m   3809\u001b[0m                 \u001b[0mindexer\u001b[0m \u001b[0;34m=\u001b[0m \u001b[0;34m[\u001b[0m\u001b[0mindexer\u001b[0m\u001b[0;34m]\u001b[0m\u001b[0;34m\u001b[0m\u001b[0;34m\u001b[0m\u001b[0m\n",
            "\u001b[0;32m/usr/local/lib/python3.10/dist-packages/pandas/core/indexes/base.py\u001b[0m in \u001b[0;36mget_loc\u001b[0;34m(self, key, method, tolerance)\u001b[0m\n\u001b[1;32m   3802\u001b[0m                 \u001b[0;32mreturn\u001b[0m \u001b[0mself\u001b[0m\u001b[0;34m.\u001b[0m\u001b[0m_engine\u001b[0m\u001b[0;34m.\u001b[0m\u001b[0mget_loc\u001b[0m\u001b[0;34m(\u001b[0m\u001b[0mcasted_key\u001b[0m\u001b[0;34m)\u001b[0m\u001b[0;34m\u001b[0m\u001b[0;34m\u001b[0m\u001b[0m\n\u001b[1;32m   3803\u001b[0m             \u001b[0;32mexcept\u001b[0m \u001b[0mKeyError\u001b[0m \u001b[0;32mas\u001b[0m \u001b[0merr\u001b[0m\u001b[0;34m:\u001b[0m\u001b[0;34m\u001b[0m\u001b[0;34m\u001b[0m\u001b[0m\n\u001b[0;32m-> 3804\u001b[0;31m                 \u001b[0;32mraise\u001b[0m \u001b[0mKeyError\u001b[0m\u001b[0;34m(\u001b[0m\u001b[0mkey\u001b[0m\u001b[0;34m)\u001b[0m \u001b[0;32mfrom\u001b[0m \u001b[0merr\u001b[0m\u001b[0;34m\u001b[0m\u001b[0;34m\u001b[0m\u001b[0m\n\u001b[0m\u001b[1;32m   3805\u001b[0m             \u001b[0;32mexcept\u001b[0m \u001b[0mTypeError\u001b[0m\u001b[0;34m:\u001b[0m\u001b[0;34m\u001b[0m\u001b[0;34m\u001b[0m\u001b[0m\n\u001b[1;32m   3806\u001b[0m                 \u001b[0;31m# If we have a listlike key, _check_indexing_error will raise\u001b[0m\u001b[0;34m\u001b[0m\u001b[0;34m\u001b[0m\u001b[0m\n",
            "\u001b[0;31mKeyError\u001b[0m: 'YEAR'"
          ]
        }
      ]
    },
    {
      "cell_type": "code",
      "source": [
        "#Create a new column called \"YEAR\" mirroring the index in order to be able to plot the graph\n",
        "short_ratsgraph = short_ratsgraph.assign(YEAR=short_ratsgraph.index)"
      ],
      "metadata": {
        "id": "U1nc2AzLUAAc"
      },
      "execution_count": 69,
      "outputs": []
    },
    {
      "cell_type": "code",
      "source": [
        "ax = short_ratsgraph.plot(x='YEAR', y=['Bronx', 'Brooklyn', 'Manhattan', 'Queens', 'Staten Island'], color = ['#DD8452', '#55A868', '#4C72B0', '#C44E52', '#8172B3'], zorder=0.1)\n",
        "ax.grid(True, color='dimgray', linestyle='dashed', linewidth=0.5, zorder=0.2)\n",
        "plt.margins(y=0.1, x=0.1)\n",
        "plt.xlabel('Year')\n",
        "plt.ylabel('Rat Population')\n",
        "plt.title('Tracking rat populations by NYC Borough, 2018 to 2022')\n",
        "plt.show()"
      ],
      "metadata": {
        "colab": {
          "base_uri": "https://localhost:8080/",
          "height": 465
        },
        "outputId": "a954b380-ee59-480f-cc10-a62c16c9dd67",
        "id": "97LAUT3XR7Vc"
      },
      "execution_count": 70,
      "outputs": [
        {
          "output_type": "display_data",
          "data": {
            "text/plain": [
              "<Figure size 640x480 with 1 Axes>"
            ],
            "image/png": "[encoded data removed]"
          },
          "metadata": {}
        }
      ]
    },
    {
      "cell_type": "code",
      "source": [
        "#Create a bargraph showing the percentage change in Rat Population from 2020 - 2022 = pd.DataFrame({ 'Bronx': [2217, 4430, 9815], 'Brooklyn': [4335, 7043, 14376], 'Manhattan': [3733, 6316, 11934], 'Queens': [713, 1462, 2479], 'Staten Island': [98, 143, 171] }, index=[2020, 2021, 2022])"
      ],
      "metadata": {
        "id": "lAs-2ySn0he_"
      },
      "execution_count": 71,
      "outputs": []
    },
    {
      "cell_type": "code",
      "source": [
        "ratspercent = df.pct_change(periods=2).loc[2022] * 100"
      ],
      "metadata": {
        "id": "5a2g35RXuXgw"
      },
      "execution_count": 72,
      "outputs": []
    },
    {
      "cell_type": "code",
      "source": [
        "plt.bar(ratspercent.index, ratspercent.values, color = ['#DD8452', '#55A868', '#4C72B0', '#C44E52', '#8172B3'], width=0.9, align='center')\n",
        "plt.margins(y=0.1, x=0.1)\n",
        "plt.xlabel('Borough')\n",
        "plt.ylabel('Percentage Change')\n",
        "plt.title('Increase in NYC Rat Sightings from 2020 to 2022')\n",
        "for x, y in zip(ratspercent.index, ratspercent.values):\n",
        "    plt.text(x, y + 1, f'{y:.1f}%', ha='center', va='bottom', color='black', fontsize=10, fontweight='bold')\n",
        "plt.show()"
      ],
      "metadata": {
        "colab": {
          "base_uri": "https://localhost:8080/",
          "height": 465
        },
        "id": "TfdDbS5Judco",
        "outputId": "8be1e6bf-9589-4927-ad90-3d72da67696c"
      },
      "execution_count": 73,
      "outputs": [
        {
          "output_type": "display_data",
          "data": {
            "text/plain": [
              "<Figure size 640x480 with 1 Axes>"
            ],
            "image/png": "[encoded data removed]"
          },
          "metadata": {}
        }
      ]
    },
    {
      "cell_type": "markdown",
      "source": [
        "# **7. CONCLUSION**\n"
      ],
      "metadata": {
        "id": "8RERKfmfwww4"
      }
    },
    {
      "cell_type": "markdown",
      "source": [
        "### NYC has indeed seen a steep rise in rat infestations, most likely due to changes in human behavior since Covid 1\n",
        "### The size of the problem, however, varies by Borough\n",
        "### And although the problem seems intractable 2\n",
        "### It might be worth concentrating rat mitigation efforts on the most infested neighborhoods and boroughs# New Section"
      ],
      "metadata": {
        "id": "Juuky4zUxhX5"
      }
    }
  ]
}